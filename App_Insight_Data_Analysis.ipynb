{
  "metadata": {
    "kernelspec": {
      "language": "python",
      "display_name": "Python 3",
      "name": "python3"
    },
    "language_info": {
      "name": "python",
      "version": "3.11.13",
      "mimetype": "text/x-python",
      "codemirror_mode": {
        "name": "ipython",
        "version": 3
      },
      "pygments_lexer": "ipython3",
      "nbconvert_exporter": "python",
      "file_extension": ".py"
    },
    "kaggle": {
      "accelerator": "none",
      "dataSources": [
        {
          "sourceId": 274957,
          "sourceType": "datasetVersion",
          "datasetId": 49864
        }
      ],
      "dockerImageVersionId": 31089,
      "isInternetEnabled": true,
      "language": "python",
      "sourceType": "notebook",
      "isGpuEnabled": false
    },
    "colab": {
      "provenance": [],
      "include_colab_link": true
    }
  },
  "nbformat_minor": 0,
  "nbformat": 4,
  "cells": [
    {
      "cell_type": "markdown",
      "metadata": {
        "id": "view-in-github",
        "colab_type": "text"
      },
      "source": [
        "<a href=\"https://colab.research.google.com/github/MLopita/App-Insight-Data-Analysis/blob/main/App_Insight_Data_Analysis.ipynb\" target=\"_parent\"><img src=\"https://colab.research.google.com/assets/colab-badge.svg\" alt=\"Open In Colab\"/></a>"
      ]
    },
    {
      "cell_type": "code",
      "source": [
        "import pandas as pd\n",
        "import numpy as np\n",
        "df = pd.read_csv(\"/content/googleplaystore.csv\")"
      ],
      "metadata": {
        "_uuid": "8f2839f25d086af736a60e9eeb907d3b93b6e0e5",
        "_cell_guid": "b1076dfc-b9ad-4769-8c92-a6c4dae69d19",
        "trusted": true,
        "execution": {
          "iopub.status.busy": "2025-09-13T18:48:08.815741Z",
          "iopub.execute_input": "2025-09-13T18:48:08.816028Z",
          "iopub.status.idle": "2025-09-13T18:48:09.247216Z",
          "shell.execute_reply.started": "2025-09-13T18:48:08.816006Z",
          "shell.execute_reply": "2025-09-13T18:48:09.246025Z"
        },
        "id": "b0AD5ZX_bxVp"
      },
      "outputs": [],
      "execution_count": 2
    },
    {
      "cell_type": "code",
      "source": [
        "df.head()"
      ],
      "metadata": {
        "trusted": true,
        "execution": {
          "iopub.status.busy": "2025-09-13T18:48:09.248915Z",
          "iopub.execute_input": "2025-09-13T18:48:09.249287Z",
          "iopub.status.idle": "2025-09-13T18:48:09.281709Z",
          "shell.execute_reply.started": "2025-09-13T18:48:09.249257Z",
          "shell.execute_reply": "2025-09-13T18:48:09.280932Z"
        },
        "id": "RTbSuxnLbxVq",
        "outputId": "3c02d730-99b8-420d-c9ed-e9bfe3877296",
        "colab": {
          "base_uri": "https://localhost:8080/",
          "height": 573
        }
      },
      "outputs": [
        {
          "output_type": "execute_result",
          "data": {
            "text/plain": [
              "                                                 App        Category  Rating  \\\n",
              "0     Photo Editor & Candy Camera & Grid & ScrapBook  ART_AND_DESIGN     4.1   \n",
              "1                                Coloring book moana  ART_AND_DESIGN     3.9   \n",
              "2  U Launcher Lite – FREE Live Cool Themes, Hide ...  ART_AND_DESIGN     4.7   \n",
              "3                              Sketch - Draw & Paint  ART_AND_DESIGN     4.5   \n",
              "4              Pixel Draw - Number Art Coloring Book  ART_AND_DESIGN     4.3   \n",
              "\n",
              "  Reviews  Size     Installs  Type Price Content Rating  \\\n",
              "0     159   19M      10,000+  Free     0       Everyone   \n",
              "1     967   14M     500,000+  Free     0       Everyone   \n",
              "2   87510  8.7M   5,000,000+  Free     0       Everyone   \n",
              "3  215644   25M  50,000,000+  Free     0           Teen   \n",
              "4     967  2.8M     100,000+  Free     0       Everyone   \n",
              "\n",
              "                      Genres      Last Updated         Current Ver  \\\n",
              "0               Art & Design   January 7, 2018               1.0.0   \n",
              "1  Art & Design;Pretend Play  January 15, 2018               2.0.0   \n",
              "2               Art & Design    August 1, 2018               1.2.4   \n",
              "3               Art & Design      June 8, 2018  Varies with device   \n",
              "4    Art & Design;Creativity     June 20, 2018                 1.1   \n",
              "\n",
              "    Android Ver  \n",
              "0  4.0.3 and up  \n",
              "1  4.0.3 and up  \n",
              "2  4.0.3 and up  \n",
              "3    4.2 and up  \n",
              "4    4.4 and up  "
            ],
            "text/html": [
              "\n",
              "  <div id=\"df-257eb3d3-6ee1-4405-9bac-878fe9ed117c\" class=\"colab-df-container\">\n",
              "    <div>\n",
              "<style scoped>\n",
              "    .dataframe tbody tr th:only-of-type {\n",
              "        vertical-align: middle;\n",
              "    }\n",
              "\n",
              "    .dataframe tbody tr th {\n",
              "        vertical-align: top;\n",
              "    }\n",
              "\n",
              "    .dataframe thead th {\n",
              "        text-align: right;\n",
              "    }\n",
              "</style>\n",
              "<table border=\"1\" class=\"dataframe\">\n",
              "  <thead>\n",
              "    <tr style=\"text-align: right;\">\n",
              "      <th></th>\n",
              "      <th>App</th>\n",
              "      <th>Category</th>\n",
              "      <th>Rating</th>\n",
              "      <th>Reviews</th>\n",
              "      <th>Size</th>\n",
              "      <th>Installs</th>\n",
              "      <th>Type</th>\n",
              "      <th>Price</th>\n",
              "      <th>Content Rating</th>\n",
              "      <th>Genres</th>\n",
              "      <th>Last Updated</th>\n",
              "      <th>Current Ver</th>\n",
              "      <th>Android Ver</th>\n",
              "    </tr>\n",
              "  </thead>\n",
              "  <tbody>\n",
              "    <tr>\n",
              "      <th>0</th>\n",
              "      <td>Photo Editor &amp; Candy Camera &amp; Grid &amp; ScrapBook</td>\n",
              "      <td>ART_AND_DESIGN</td>\n",
              "      <td>4.1</td>\n",
              "      <td>159</td>\n",
              "      <td>19M</td>\n",
              "      <td>10,000+</td>\n",
              "      <td>Free</td>\n",
              "      <td>0</td>\n",
              "      <td>Everyone</td>\n",
              "      <td>Art &amp; Design</td>\n",
              "      <td>January 7, 2018</td>\n",
              "      <td>1.0.0</td>\n",
              "      <td>4.0.3 and up</td>\n",
              "    </tr>\n",
              "    <tr>\n",
              "      <th>1</th>\n",
              "      <td>Coloring book moana</td>\n",
              "      <td>ART_AND_DESIGN</td>\n",
              "      <td>3.9</td>\n",
              "      <td>967</td>\n",
              "      <td>14M</td>\n",
              "      <td>500,000+</td>\n",
              "      <td>Free</td>\n",
              "      <td>0</td>\n",
              "      <td>Everyone</td>\n",
              "      <td>Art &amp; Design;Pretend Play</td>\n",
              "      <td>January 15, 2018</td>\n",
              "      <td>2.0.0</td>\n",
              "      <td>4.0.3 and up</td>\n",
              "    </tr>\n",
              "    <tr>\n",
              "      <th>2</th>\n",
              "      <td>U Launcher Lite – FREE Live Cool Themes, Hide ...</td>\n",
              "      <td>ART_AND_DESIGN</td>\n",
              "      <td>4.7</td>\n",
              "      <td>87510</td>\n",
              "      <td>8.7M</td>\n",
              "      <td>5,000,000+</td>\n",
              "      <td>Free</td>\n",
              "      <td>0</td>\n",
              "      <td>Everyone</td>\n",
              "      <td>Art &amp; Design</td>\n",
              "      <td>August 1, 2018</td>\n",
              "      <td>1.2.4</td>\n",
              "      <td>4.0.3 and up</td>\n",
              "    </tr>\n",
              "    <tr>\n",
              "      <th>3</th>\n",
              "      <td>Sketch - Draw &amp; Paint</td>\n",
              "      <td>ART_AND_DESIGN</td>\n",
              "      <td>4.5</td>\n",
              "      <td>215644</td>\n",
              "      <td>25M</td>\n",
              "      <td>50,000,000+</td>\n",
              "      <td>Free</td>\n",
              "      <td>0</td>\n",
              "      <td>Teen</td>\n",
              "      <td>Art &amp; Design</td>\n",
              "      <td>June 8, 2018</td>\n",
              "      <td>Varies with device</td>\n",
              "      <td>4.2 and up</td>\n",
              "    </tr>\n",
              "    <tr>\n",
              "      <th>4</th>\n",
              "      <td>Pixel Draw - Number Art Coloring Book</td>\n",
              "      <td>ART_AND_DESIGN</td>\n",
              "      <td>4.3</td>\n",
              "      <td>967</td>\n",
              "      <td>2.8M</td>\n",
              "      <td>100,000+</td>\n",
              "      <td>Free</td>\n",
              "      <td>0</td>\n",
              "      <td>Everyone</td>\n",
              "      <td>Art &amp; Design;Creativity</td>\n",
              "      <td>June 20, 2018</td>\n",
              "      <td>1.1</td>\n",
              "      <td>4.4 and up</td>\n",
              "    </tr>\n",
              "  </tbody>\n",
              "</table>\n",
              "</div>\n",
              "    <div class=\"colab-df-buttons\">\n",
              "\n",
              "  <div class=\"colab-df-container\">\n",
              "    <button class=\"colab-df-convert\" onclick=\"convertToInteractive('df-257eb3d3-6ee1-4405-9bac-878fe9ed117c')\"\n",
              "            title=\"Convert this dataframe to an interactive table.\"\n",
              "            style=\"display:none;\">\n",
              "\n",
              "  <svg xmlns=\"http://www.w3.org/2000/svg\" height=\"24px\" viewBox=\"0 -960 960 960\">\n",
              "    <path d=\"M120-120v-720h720v720H120Zm60-500h600v-160H180v160Zm220 220h160v-160H400v160Zm0 220h160v-160H400v160ZM180-400h160v-160H180v160Zm440 0h160v-160H620v160ZM180-180h160v-160H180v160Zm440 0h160v-160H620v160Z\"/>\n",
              "  </svg>\n",
              "    </button>\n",
              "\n",
              "  <style>\n",
              "    .colab-df-container {\n",
              "      display:flex;\n",
              "      gap: 12px;\n",
              "    }\n",
              "\n",
              "    .colab-df-convert {\n",
              "      background-color: #E8F0FE;\n",
              "      border: none;\n",
              "      border-radius: 50%;\n",
              "      cursor: pointer;\n",
              "      display: none;\n",
              "      fill: #1967D2;\n",
              "      height: 32px;\n",
              "      padding: 0 0 0 0;\n",
              "      width: 32px;\n",
              "    }\n",
              "\n",
              "    .colab-df-convert:hover {\n",
              "      background-color: #E2EBFA;\n",
              "      box-shadow: 0px 1px 2px rgba(60, 64, 67, 0.3), 0px 1px 3px 1px rgba(60, 64, 67, 0.15);\n",
              "      fill: #174EA6;\n",
              "    }\n",
              "\n",
              "    .colab-df-buttons div {\n",
              "      margin-bottom: 4px;\n",
              "    }\n",
              "\n",
              "    [theme=dark] .colab-df-convert {\n",
              "      background-color: #3B4455;\n",
              "      fill: #D2E3FC;\n",
              "    }\n",
              "\n",
              "    [theme=dark] .colab-df-convert:hover {\n",
              "      background-color: #434B5C;\n",
              "      box-shadow: 0px 1px 3px 1px rgba(0, 0, 0, 0.15);\n",
              "      filter: drop-shadow(0px 1px 2px rgba(0, 0, 0, 0.3));\n",
              "      fill: #FFFFFF;\n",
              "    }\n",
              "  </style>\n",
              "\n",
              "    <script>\n",
              "      const buttonEl =\n",
              "        document.querySelector('#df-257eb3d3-6ee1-4405-9bac-878fe9ed117c button.colab-df-convert');\n",
              "      buttonEl.style.display =\n",
              "        google.colab.kernel.accessAllowed ? 'block' : 'none';\n",
              "\n",
              "      async function convertToInteractive(key) {\n",
              "        const element = document.querySelector('#df-257eb3d3-6ee1-4405-9bac-878fe9ed117c');\n",
              "        const dataTable =\n",
              "          await google.colab.kernel.invokeFunction('convertToInteractive',\n",
              "                                                    [key], {});\n",
              "        if (!dataTable) return;\n",
              "\n",
              "        const docLinkHtml = 'Like what you see? Visit the ' +\n",
              "          '<a target=\"_blank\" href=https://colab.research.google.com/notebooks/data_table.ipynb>data table notebook</a>'\n",
              "          + ' to learn more about interactive tables.';\n",
              "        element.innerHTML = '';\n",
              "        dataTable['output_type'] = 'display_data';\n",
              "        await google.colab.output.renderOutput(dataTable, element);\n",
              "        const docLink = document.createElement('div');\n",
              "        docLink.innerHTML = docLinkHtml;\n",
              "        element.appendChild(docLink);\n",
              "      }\n",
              "    </script>\n",
              "  </div>\n",
              "\n",
              "\n",
              "    <div id=\"df-d436b7b7-29c6-4ebb-a2b4-da70e0d9d979\">\n",
              "      <button class=\"colab-df-quickchart\" onclick=\"quickchart('df-d436b7b7-29c6-4ebb-a2b4-da70e0d9d979')\"\n",
              "                title=\"Suggest charts\"\n",
              "                style=\"display:none;\">\n",
              "\n",
              "<svg xmlns=\"http://www.w3.org/2000/svg\" height=\"24px\"viewBox=\"0 0 24 24\"\n",
              "     width=\"24px\">\n",
              "    <g>\n",
              "        <path d=\"M19 3H5c-1.1 0-2 .9-2 2v14c0 1.1.9 2 2 2h14c1.1 0 2-.9 2-2V5c0-1.1-.9-2-2-2zM9 17H7v-7h2v7zm4 0h-2V7h2v10zm4 0h-2v-4h2v4z\"/>\n",
              "    </g>\n",
              "</svg>\n",
              "      </button>\n",
              "\n",
              "<style>\n",
              "  .colab-df-quickchart {\n",
              "      --bg-color: #E8F0FE;\n",
              "      --fill-color: #1967D2;\n",
              "      --hover-bg-color: #E2EBFA;\n",
              "      --hover-fill-color: #174EA6;\n",
              "      --disabled-fill-color: #AAA;\n",
              "      --disabled-bg-color: #DDD;\n",
              "  }\n",
              "\n",
              "  [theme=dark] .colab-df-quickchart {\n",
              "      --bg-color: #3B4455;\n",
              "      --fill-color: #D2E3FC;\n",
              "      --hover-bg-color: #434B5C;\n",
              "      --hover-fill-color: #FFFFFF;\n",
              "      --disabled-bg-color: #3B4455;\n",
              "      --disabled-fill-color: #666;\n",
              "  }\n",
              "\n",
              "  .colab-df-quickchart {\n",
              "    background-color: var(--bg-color);\n",
              "    border: none;\n",
              "    border-radius: 50%;\n",
              "    cursor: pointer;\n",
              "    display: none;\n",
              "    fill: var(--fill-color);\n",
              "    height: 32px;\n",
              "    padding: 0;\n",
              "    width: 32px;\n",
              "  }\n",
              "\n",
              "  .colab-df-quickchart:hover {\n",
              "    background-color: var(--hover-bg-color);\n",
              "    box-shadow: 0 1px 2px rgba(60, 64, 67, 0.3), 0 1px 3px 1px rgba(60, 64, 67, 0.15);\n",
              "    fill: var(--button-hover-fill-color);\n",
              "  }\n",
              "\n",
              "  .colab-df-quickchart-complete:disabled,\n",
              "  .colab-df-quickchart-complete:disabled:hover {\n",
              "    background-color: var(--disabled-bg-color);\n",
              "    fill: var(--disabled-fill-color);\n",
              "    box-shadow: none;\n",
              "  }\n",
              "\n",
              "  .colab-df-spinner {\n",
              "    border: 2px solid var(--fill-color);\n",
              "    border-color: transparent;\n",
              "    border-bottom-color: var(--fill-color);\n",
              "    animation:\n",
              "      spin 1s steps(1) infinite;\n",
              "  }\n",
              "\n",
              "  @keyframes spin {\n",
              "    0% {\n",
              "      border-color: transparent;\n",
              "      border-bottom-color: var(--fill-color);\n",
              "      border-left-color: var(--fill-color);\n",
              "    }\n",
              "    20% {\n",
              "      border-color: transparent;\n",
              "      border-left-color: var(--fill-color);\n",
              "      border-top-color: var(--fill-color);\n",
              "    }\n",
              "    30% {\n",
              "      border-color: transparent;\n",
              "      border-left-color: var(--fill-color);\n",
              "      border-top-color: var(--fill-color);\n",
              "      border-right-color: var(--fill-color);\n",
              "    }\n",
              "    40% {\n",
              "      border-color: transparent;\n",
              "      border-right-color: var(--fill-color);\n",
              "      border-top-color: var(--fill-color);\n",
              "    }\n",
              "    60% {\n",
              "      border-color: transparent;\n",
              "      border-right-color: var(--fill-color);\n",
              "    }\n",
              "    80% {\n",
              "      border-color: transparent;\n",
              "      border-right-color: var(--fill-color);\n",
              "      border-bottom-color: var(--fill-color);\n",
              "    }\n",
              "    90% {\n",
              "      border-color: transparent;\n",
              "      border-bottom-color: var(--fill-color);\n",
              "    }\n",
              "  }\n",
              "</style>\n",
              "\n",
              "      <script>\n",
              "        async function quickchart(key) {\n",
              "          const quickchartButtonEl =\n",
              "            document.querySelector('#' + key + ' button');\n",
              "          quickchartButtonEl.disabled = true;  // To prevent multiple clicks.\n",
              "          quickchartButtonEl.classList.add('colab-df-spinner');\n",
              "          try {\n",
              "            const charts = await google.colab.kernel.invokeFunction(\n",
              "                'suggestCharts', [key], {});\n",
              "          } catch (error) {\n",
              "            console.error('Error during call to suggestCharts:', error);\n",
              "          }\n",
              "          quickchartButtonEl.classList.remove('colab-df-spinner');\n",
              "          quickchartButtonEl.classList.add('colab-df-quickchart-complete');\n",
              "        }\n",
              "        (() => {\n",
              "          let quickchartButtonEl =\n",
              "            document.querySelector('#df-d436b7b7-29c6-4ebb-a2b4-da70e0d9d979 button');\n",
              "          quickchartButtonEl.style.display =\n",
              "            google.colab.kernel.accessAllowed ? 'block' : 'none';\n",
              "        })();\n",
              "      </script>\n",
              "    </div>\n",
              "\n",
              "    </div>\n",
              "  </div>\n"
            ],
            "application/vnd.google.colaboratory.intrinsic+json": {
              "type": "dataframe",
              "variable_name": "df",
              "summary": "{\n  \"name\": \"df\",\n  \"rows\": 10841,\n  \"fields\": [\n    {\n      \"column\": \"App\",\n      \"properties\": {\n        \"dtype\": \"string\",\n        \"num_unique_values\": 9660,\n        \"samples\": [\n          \"Run R Script - Online Statistical Data Analysis\",\n          \"EURES - Your Job in Europe\",\n          \"Dog Licks Screen Wallpaper\"\n        ],\n        \"semantic_type\": \"\",\n        \"description\": \"\"\n      }\n    },\n    {\n      \"column\": \"Category\",\n      \"properties\": {\n        \"dtype\": \"category\",\n        \"num_unique_values\": 34,\n        \"samples\": [\n          \"LIBRARIES_AND_DEMO\",\n          \"MEDICAL\",\n          \"PRODUCTIVITY\"\n        ],\n        \"semantic_type\": \"\",\n        \"description\": \"\"\n      }\n    },\n    {\n      \"column\": \"Rating\",\n      \"properties\": {\n        \"dtype\": \"number\",\n        \"std\": 0.5374313031477594,\n        \"min\": 1.0,\n        \"max\": 19.0,\n        \"num_unique_values\": 40,\n        \"samples\": [\n          5.0,\n          3.4,\n          3.3\n        ],\n        \"semantic_type\": \"\",\n        \"description\": \"\"\n      }\n    },\n    {\n      \"column\": \"Reviews\",\n      \"properties\": {\n        \"dtype\": \"string\",\n        \"num_unique_values\": 6002,\n        \"samples\": [\n          \"66661\",\n          \"7479\",\n          \"8978\"\n        ],\n        \"semantic_type\": \"\",\n        \"description\": \"\"\n      }\n    },\n    {\n      \"column\": \"Size\",\n      \"properties\": {\n        \"dtype\": \"category\",\n        \"num_unique_values\": 462,\n        \"samples\": [\n          \"746k\",\n          \"9.4M\",\n          \"35M\"\n        ],\n        \"semantic_type\": \"\",\n        \"description\": \"\"\n      }\n    },\n    {\n      \"column\": \"Installs\",\n      \"properties\": {\n        \"dtype\": \"category\",\n        \"num_unique_values\": 22,\n        \"samples\": [\n          \"10,000+\",\n          \"50+\",\n          \"5,000+\"\n        ],\n        \"semantic_type\": \"\",\n        \"description\": \"\"\n      }\n    },\n    {\n      \"column\": \"Type\",\n      \"properties\": {\n        \"dtype\": \"category\",\n        \"num_unique_values\": 3,\n        \"samples\": [\n          \"Free\",\n          \"Paid\",\n          \"0\"\n        ],\n        \"semantic_type\": \"\",\n        \"description\": \"\"\n      }\n    },\n    {\n      \"column\": \"Price\",\n      \"properties\": {\n        \"dtype\": \"category\",\n        \"num_unique_values\": 93,\n        \"samples\": [\n          \"$17.99\",\n          \"$29.99\",\n          \"$37.99\"\n        ],\n        \"semantic_type\": \"\",\n        \"description\": \"\"\n      }\n    },\n    {\n      \"column\": \"Content Rating\",\n      \"properties\": {\n        \"dtype\": \"category\",\n        \"num_unique_values\": 6,\n        \"samples\": [\n          \"Everyone\",\n          \"Teen\",\n          \"Unrated\"\n        ],\n        \"semantic_type\": \"\",\n        \"description\": \"\"\n      }\n    },\n    {\n      \"column\": \"Genres\",\n      \"properties\": {\n        \"dtype\": \"category\",\n        \"num_unique_values\": 120,\n        \"samples\": [\n          \"Casual;Action & Adventure\",\n          \"Board\",\n          \"Auto & Vehicles\"\n        ],\n        \"semantic_type\": \"\",\n        \"description\": \"\"\n      }\n    },\n    {\n      \"column\": \"Last Updated\",\n      \"properties\": {\n        \"dtype\": \"category\",\n        \"num_unique_values\": 1378,\n        \"samples\": [\n          \"March 15, 2016\",\n          \"May 14, 2013\",\n          \"October 21, 2015\"\n        ],\n        \"semantic_type\": \"\",\n        \"description\": \"\"\n      }\n    },\n    {\n      \"column\": \"Current Ver\",\n      \"properties\": {\n        \"dtype\": \"category\",\n        \"num_unique_values\": 2832,\n        \"samples\": [\n          \"7.0.4.17908\",\n          \"1.2.5.4-11\",\n          \"2.5.7.1\"\n        ],\n        \"semantic_type\": \"\",\n        \"description\": \"\"\n      }\n    },\n    {\n      \"column\": \"Android Ver\",\n      \"properties\": {\n        \"dtype\": \"category\",\n        \"num_unique_values\": 33,\n        \"samples\": [\n          \"2.2 - 7.1.1\",\n          \"7.0 and up\",\n          \"3.1 and up\"\n        ],\n        \"semantic_type\": \"\",\n        \"description\": \"\"\n      }\n    }\n  ]\n}"
            }
          },
          "metadata": {},
          "execution_count": 3
        }
      ],
      "execution_count": 3
    },
    {
      "cell_type": "code",
      "source": [
        "df.shape"
      ],
      "metadata": {
        "trusted": true,
        "execution": {
          "iopub.status.busy": "2025-09-13T18:48:09.282657Z",
          "iopub.execute_input": "2025-09-13T18:48:09.282957Z",
          "iopub.status.idle": "2025-09-13T18:48:09.28895Z",
          "shell.execute_reply.started": "2025-09-13T18:48:09.282929Z",
          "shell.execute_reply": "2025-09-13T18:48:09.288085Z"
        },
        "id": "fPboqkjSbxVq",
        "outputId": "4a41a15d-9760-4cca-a005-cb4a586644b0",
        "colab": {
          "base_uri": "https://localhost:8080/"
        }
      },
      "outputs": [
        {
          "output_type": "execute_result",
          "data": {
            "text/plain": [
              "(10841, 13)"
            ]
          },
          "metadata": {},
          "execution_count": 4
        }
      ],
      "execution_count": 4
    },
    {
      "cell_type": "code",
      "source": [
        "df.info()"
      ],
      "metadata": {
        "trusted": true,
        "execution": {
          "iopub.status.busy": "2025-09-13T18:48:09.290634Z",
          "iopub.execute_input": "2025-09-13T18:48:09.290904Z",
          "iopub.status.idle": "2025-09-13T18:48:09.340221Z",
          "shell.execute_reply.started": "2025-09-13T18:48:09.290872Z",
          "shell.execute_reply": "2025-09-13T18:48:09.339328Z"
        },
        "id": "onTuWUelbxVr",
        "outputId": "74ca31e2-943f-4085-8fa4-0f1dfa804e76",
        "colab": {
          "base_uri": "https://localhost:8080/"
        }
      },
      "outputs": [
        {
          "output_type": "stream",
          "name": "stdout",
          "text": [
            "<class 'pandas.core.frame.DataFrame'>\n",
            "RangeIndex: 10841 entries, 0 to 10840\n",
            "Data columns (total 13 columns):\n",
            " #   Column          Non-Null Count  Dtype  \n",
            "---  ------          --------------  -----  \n",
            " 0   App             10841 non-null  object \n",
            " 1   Category        10841 non-null  object \n",
            " 2   Rating          9367 non-null   float64\n",
            " 3   Reviews         10841 non-null  object \n",
            " 4   Size            10841 non-null  object \n",
            " 5   Installs        10841 non-null  object \n",
            " 6   Type            10840 non-null  object \n",
            " 7   Price           10841 non-null  object \n",
            " 8   Content Rating  10840 non-null  object \n",
            " 9   Genres          10841 non-null  object \n",
            " 10  Last Updated    10841 non-null  object \n",
            " 11  Current Ver     10833 non-null  object \n",
            " 12  Android Ver     10838 non-null  object \n",
            "dtypes: float64(1), object(12)\n",
            "memory usage: 1.1+ MB\n"
          ]
        }
      ],
      "execution_count": 5
    },
    {
      "cell_type": "code",
      "source": [
        "df.describe()"
      ],
      "metadata": {
        "trusted": true,
        "execution": {
          "iopub.status.busy": "2025-09-13T18:48:09.341052Z",
          "iopub.execute_input": "2025-09-13T18:48:09.341339Z",
          "iopub.status.idle": "2025-09-13T18:48:09.364853Z",
          "shell.execute_reply.started": "2025-09-13T18:48:09.341318Z",
          "shell.execute_reply": "2025-09-13T18:48:09.363826Z"
        },
        "id": "ldihycgbbxVr",
        "outputId": "5e5be5d1-bbf8-4e7e-b1be-b319b805dd75",
        "colab": {
          "base_uri": "https://localhost:8080/",
          "height": 300
        }
      },
      "outputs": [
        {
          "output_type": "execute_result",
          "data": {
            "text/plain": [
              "            Rating\n",
              "count  9367.000000\n",
              "mean      4.193338\n",
              "std       0.537431\n",
              "min       1.000000\n",
              "25%       4.000000\n",
              "50%       4.300000\n",
              "75%       4.500000\n",
              "max      19.000000"
            ],
            "text/html": [
              "\n",
              "  <div id=\"df-1b04d001-6c26-4c89-a728-54d9976ee507\" class=\"colab-df-container\">\n",
              "    <div>\n",
              "<style scoped>\n",
              "    .dataframe tbody tr th:only-of-type {\n",
              "        vertical-align: middle;\n",
              "    }\n",
              "\n",
              "    .dataframe tbody tr th {\n",
              "        vertical-align: top;\n",
              "    }\n",
              "\n",
              "    .dataframe thead th {\n",
              "        text-align: right;\n",
              "    }\n",
              "</style>\n",
              "<table border=\"1\" class=\"dataframe\">\n",
              "  <thead>\n",
              "    <tr style=\"text-align: right;\">\n",
              "      <th></th>\n",
              "      <th>Rating</th>\n",
              "    </tr>\n",
              "  </thead>\n",
              "  <tbody>\n",
              "    <tr>\n",
              "      <th>count</th>\n",
              "      <td>9367.000000</td>\n",
              "    </tr>\n",
              "    <tr>\n",
              "      <th>mean</th>\n",
              "      <td>4.193338</td>\n",
              "    </tr>\n",
              "    <tr>\n",
              "      <th>std</th>\n",
              "      <td>0.537431</td>\n",
              "    </tr>\n",
              "    <tr>\n",
              "      <th>min</th>\n",
              "      <td>1.000000</td>\n",
              "    </tr>\n",
              "    <tr>\n",
              "      <th>25%</th>\n",
              "      <td>4.000000</td>\n",
              "    </tr>\n",
              "    <tr>\n",
              "      <th>50%</th>\n",
              "      <td>4.300000</td>\n",
              "    </tr>\n",
              "    <tr>\n",
              "      <th>75%</th>\n",
              "      <td>4.500000</td>\n",
              "    </tr>\n",
              "    <tr>\n",
              "      <th>max</th>\n",
              "      <td>19.000000</td>\n",
              "    </tr>\n",
              "  </tbody>\n",
              "</table>\n",
              "</div>\n",
              "    <div class=\"colab-df-buttons\">\n",
              "\n",
              "  <div class=\"colab-df-container\">\n",
              "    <button class=\"colab-df-convert\" onclick=\"convertToInteractive('df-1b04d001-6c26-4c89-a728-54d9976ee507')\"\n",
              "            title=\"Convert this dataframe to an interactive table.\"\n",
              "            style=\"display:none;\">\n",
              "\n",
              "  <svg xmlns=\"http://www.w3.org/2000/svg\" height=\"24px\" viewBox=\"0 -960 960 960\">\n",
              "    <path d=\"M120-120v-720h720v720H120Zm60-500h600v-160H180v160Zm220 220h160v-160H400v160Zm0 220h160v-160H400v160ZM180-400h160v-160H180v160Zm440 0h160v-160H620v160ZM180-180h160v-160H180v160Zm440 0h160v-160H620v160Z\"/>\n",
              "  </svg>\n",
              "    </button>\n",
              "\n",
              "  <style>\n",
              "    .colab-df-container {\n",
              "      display:flex;\n",
              "      gap: 12px;\n",
              "    }\n",
              "\n",
              "    .colab-df-convert {\n",
              "      background-color: #E8F0FE;\n",
              "      border: none;\n",
              "      border-radius: 50%;\n",
              "      cursor: pointer;\n",
              "      display: none;\n",
              "      fill: #1967D2;\n",
              "      height: 32px;\n",
              "      padding: 0 0 0 0;\n",
              "      width: 32px;\n",
              "    }\n",
              "\n",
              "    .colab-df-convert:hover {\n",
              "      background-color: #E2EBFA;\n",
              "      box-shadow: 0px 1px 2px rgba(60, 64, 67, 0.3), 0px 1px 3px 1px rgba(60, 64, 67, 0.15);\n",
              "      fill: #174EA6;\n",
              "    }\n",
              "\n",
              "    .colab-df-buttons div {\n",
              "      margin-bottom: 4px;\n",
              "    }\n",
              "\n",
              "    [theme=dark] .colab-df-convert {\n",
              "      background-color: #3B4455;\n",
              "      fill: #D2E3FC;\n",
              "    }\n",
              "\n",
              "    [theme=dark] .colab-df-convert:hover {\n",
              "      background-color: #434B5C;\n",
              "      box-shadow: 0px 1px 3px 1px rgba(0, 0, 0, 0.15);\n",
              "      filter: drop-shadow(0px 1px 2px rgba(0, 0, 0, 0.3));\n",
              "      fill: #FFFFFF;\n",
              "    }\n",
              "  </style>\n",
              "\n",
              "    <script>\n",
              "      const buttonEl =\n",
              "        document.querySelector('#df-1b04d001-6c26-4c89-a728-54d9976ee507 button.colab-df-convert');\n",
              "      buttonEl.style.display =\n",
              "        google.colab.kernel.accessAllowed ? 'block' : 'none';\n",
              "\n",
              "      async function convertToInteractive(key) {\n",
              "        const element = document.querySelector('#df-1b04d001-6c26-4c89-a728-54d9976ee507');\n",
              "        const dataTable =\n",
              "          await google.colab.kernel.invokeFunction('convertToInteractive',\n",
              "                                                    [key], {});\n",
              "        if (!dataTable) return;\n",
              "\n",
              "        const docLinkHtml = 'Like what you see? Visit the ' +\n",
              "          '<a target=\"_blank\" href=https://colab.research.google.com/notebooks/data_table.ipynb>data table notebook</a>'\n",
              "          + ' to learn more about interactive tables.';\n",
              "        element.innerHTML = '';\n",
              "        dataTable['output_type'] = 'display_data';\n",
              "        await google.colab.output.renderOutput(dataTable, element);\n",
              "        const docLink = document.createElement('div');\n",
              "        docLink.innerHTML = docLinkHtml;\n",
              "        element.appendChild(docLink);\n",
              "      }\n",
              "    </script>\n",
              "  </div>\n",
              "\n",
              "\n",
              "    <div id=\"df-fd144473-c58a-4515-99e1-90ee9fdc8275\">\n",
              "      <button class=\"colab-df-quickchart\" onclick=\"quickchart('df-fd144473-c58a-4515-99e1-90ee9fdc8275')\"\n",
              "                title=\"Suggest charts\"\n",
              "                style=\"display:none;\">\n",
              "\n",
              "<svg xmlns=\"http://www.w3.org/2000/svg\" height=\"24px\"viewBox=\"0 0 24 24\"\n",
              "     width=\"24px\">\n",
              "    <g>\n",
              "        <path d=\"M19 3H5c-1.1 0-2 .9-2 2v14c0 1.1.9 2 2 2h14c1.1 0 2-.9 2-2V5c0-1.1-.9-2-2-2zM9 17H7v-7h2v7zm4 0h-2V7h2v10zm4 0h-2v-4h2v4z\"/>\n",
              "    </g>\n",
              "</svg>\n",
              "      </button>\n",
              "\n",
              "<style>\n",
              "  .colab-df-quickchart {\n",
              "      --bg-color: #E8F0FE;\n",
              "      --fill-color: #1967D2;\n",
              "      --hover-bg-color: #E2EBFA;\n",
              "      --hover-fill-color: #174EA6;\n",
              "      --disabled-fill-color: #AAA;\n",
              "      --disabled-bg-color: #DDD;\n",
              "  }\n",
              "\n",
              "  [theme=dark] .colab-df-quickchart {\n",
              "      --bg-color: #3B4455;\n",
              "      --fill-color: #D2E3FC;\n",
              "      --hover-bg-color: #434B5C;\n",
              "      --hover-fill-color: #FFFFFF;\n",
              "      --disabled-bg-color: #3B4455;\n",
              "      --disabled-fill-color: #666;\n",
              "  }\n",
              "\n",
              "  .colab-df-quickchart {\n",
              "    background-color: var(--bg-color);\n",
              "    border: none;\n",
              "    border-radius: 50%;\n",
              "    cursor: pointer;\n",
              "    display: none;\n",
              "    fill: var(--fill-color);\n",
              "    height: 32px;\n",
              "    padding: 0;\n",
              "    width: 32px;\n",
              "  }\n",
              "\n",
              "  .colab-df-quickchart:hover {\n",
              "    background-color: var(--hover-bg-color);\n",
              "    box-shadow: 0 1px 2px rgba(60, 64, 67, 0.3), 0 1px 3px 1px rgba(60, 64, 67, 0.15);\n",
              "    fill: var(--button-hover-fill-color);\n",
              "  }\n",
              "\n",
              "  .colab-df-quickchart-complete:disabled,\n",
              "  .colab-df-quickchart-complete:disabled:hover {\n",
              "    background-color: var(--disabled-bg-color);\n",
              "    fill: var(--disabled-fill-color);\n",
              "    box-shadow: none;\n",
              "  }\n",
              "\n",
              "  .colab-df-spinner {\n",
              "    border: 2px solid var(--fill-color);\n",
              "    border-color: transparent;\n",
              "    border-bottom-color: var(--fill-color);\n",
              "    animation:\n",
              "      spin 1s steps(1) infinite;\n",
              "  }\n",
              "\n",
              "  @keyframes spin {\n",
              "    0% {\n",
              "      border-color: transparent;\n",
              "      border-bottom-color: var(--fill-color);\n",
              "      border-left-color: var(--fill-color);\n",
              "    }\n",
              "    20% {\n",
              "      border-color: transparent;\n",
              "      border-left-color: var(--fill-color);\n",
              "      border-top-color: var(--fill-color);\n",
              "    }\n",
              "    30% {\n",
              "      border-color: transparent;\n",
              "      border-left-color: var(--fill-color);\n",
              "      border-top-color: var(--fill-color);\n",
              "      border-right-color: var(--fill-color);\n",
              "    }\n",
              "    40% {\n",
              "      border-color: transparent;\n",
              "      border-right-color: var(--fill-color);\n",
              "      border-top-color: var(--fill-color);\n",
              "    }\n",
              "    60% {\n",
              "      border-color: transparent;\n",
              "      border-right-color: var(--fill-color);\n",
              "    }\n",
              "    80% {\n",
              "      border-color: transparent;\n",
              "      border-right-color: var(--fill-color);\n",
              "      border-bottom-color: var(--fill-color);\n",
              "    }\n",
              "    90% {\n",
              "      border-color: transparent;\n",
              "      border-bottom-color: var(--fill-color);\n",
              "    }\n",
              "  }\n",
              "</style>\n",
              "\n",
              "      <script>\n",
              "        async function quickchart(key) {\n",
              "          const quickchartButtonEl =\n",
              "            document.querySelector('#' + key + ' button');\n",
              "          quickchartButtonEl.disabled = true;  // To prevent multiple clicks.\n",
              "          quickchartButtonEl.classList.add('colab-df-spinner');\n",
              "          try {\n",
              "            const charts = await google.colab.kernel.invokeFunction(\n",
              "                'suggestCharts', [key], {});\n",
              "          } catch (error) {\n",
              "            console.error('Error during call to suggestCharts:', error);\n",
              "          }\n",
              "          quickchartButtonEl.classList.remove('colab-df-spinner');\n",
              "          quickchartButtonEl.classList.add('colab-df-quickchart-complete');\n",
              "        }\n",
              "        (() => {\n",
              "          let quickchartButtonEl =\n",
              "            document.querySelector('#df-fd144473-c58a-4515-99e1-90ee9fdc8275 button');\n",
              "          quickchartButtonEl.style.display =\n",
              "            google.colab.kernel.accessAllowed ? 'block' : 'none';\n",
              "        })();\n",
              "      </script>\n",
              "    </div>\n",
              "\n",
              "    </div>\n",
              "  </div>\n"
            ],
            "application/vnd.google.colaboratory.intrinsic+json": {
              "type": "dataframe",
              "summary": "{\n  \"name\": \"df\",\n  \"rows\": 8,\n  \"fields\": [\n    {\n      \"column\": \"Rating\",\n      \"properties\": {\n        \"dtype\": \"number\",\n        \"std\": 3309.8440562818705,\n        \"min\": 0.5374313031477594,\n        \"max\": 9367.0,\n        \"num_unique_values\": 8,\n        \"samples\": [\n          4.193338315362443,\n          4.3,\n          9367.0\n        ],\n        \"semantic_type\": \"\",\n        \"description\": \"\"\n      }\n    }\n  ]\n}"
            }
          },
          "metadata": {},
          "execution_count": 6
        }
      ],
      "execution_count": 6
    },
    {
      "cell_type": "markdown",
      "source": [
        "**DATA CLEANING**"
      ],
      "metadata": {
        "id": "PTiYbrYqbxVr"
      }
    },
    {
      "cell_type": "code",
      "source": [
        "print(df['App'].nunique())\n",
        "print(df['App'].duplicated().sum())"
      ],
      "metadata": {
        "trusted": true,
        "execution": {
          "iopub.status.busy": "2025-09-13T18:48:09.365846Z",
          "iopub.execute_input": "2025-09-13T18:48:09.36619Z",
          "iopub.status.idle": "2025-09-13T18:48:09.375014Z",
          "shell.execute_reply.started": "2025-09-13T18:48:09.366149Z",
          "shell.execute_reply": "2025-09-13T18:48:09.374122Z"
        },
        "id": "BKXDU9K9bxVs",
        "outputId": "e4152054-eedc-4894-faa7-54e95e22a72c",
        "colab": {
          "base_uri": "https://localhost:8080/"
        }
      },
      "outputs": [
        {
          "output_type": "stream",
          "name": "stdout",
          "text": [
            "9660\n",
            "1181\n"
          ]
        }
      ],
      "execution_count": 7
    },
    {
      "cell_type": "code",
      "source": [
        "df = df.drop_duplicates(subset=['App'])"
      ],
      "metadata": {
        "trusted": true,
        "execution": {
          "iopub.status.busy": "2025-09-13T18:48:09.375941Z",
          "iopub.execute_input": "2025-09-13T18:48:09.376211Z",
          "iopub.status.idle": "2025-09-13T18:48:09.397205Z",
          "shell.execute_reply.started": "2025-09-13T18:48:09.37619Z",
          "shell.execute_reply": "2025-09-13T18:48:09.396217Z"
        },
        "id": "VOMmXnW1bxVt"
      },
      "outputs": [],
      "execution_count": 8
    },
    {
      "cell_type": "code",
      "source": [
        "print(df['App'].nunique())\n",
        "print(df['App'].duplicated().sum())"
      ],
      "metadata": {
        "trusted": true,
        "execution": {
          "iopub.status.busy": "2025-09-13T18:48:09.398261Z",
          "iopub.execute_input": "2025-09-13T18:48:09.398562Z",
          "iopub.status.idle": "2025-09-13T18:48:09.418838Z",
          "shell.execute_reply.started": "2025-09-13T18:48:09.39854Z",
          "shell.execute_reply": "2025-09-13T18:48:09.417749Z"
        },
        "id": "ZF4_p1J8bxVt",
        "outputId": "06ce9a33-026b-439b-d56b-d3fe269e8b0c",
        "colab": {
          "base_uri": "https://localhost:8080/"
        }
      },
      "outputs": [
        {
          "output_type": "stream",
          "name": "stdout",
          "text": [
            "9660\n",
            "0\n"
          ]
        }
      ],
      "execution_count": 9
    },
    {
      "cell_type": "code",
      "source": [
        "df.duplicated().sum()"
      ],
      "metadata": {
        "trusted": true,
        "execution": {
          "iopub.status.busy": "2025-09-13T18:48:09.42059Z",
          "iopub.execute_input": "2025-09-13T18:48:09.420907Z",
          "iopub.status.idle": "2025-09-13T18:48:09.448275Z",
          "shell.execute_reply.started": "2025-09-13T18:48:09.420879Z",
          "shell.execute_reply": "2025-09-13T18:48:09.447357Z"
        },
        "id": "m1vFFNuhbxVu",
        "outputId": "2dab1875-4d39-4eb1-e389-4f51333aee58",
        "colab": {
          "base_uri": "https://localhost:8080/"
        }
      },
      "outputs": [
        {
          "output_type": "execute_result",
          "data": {
            "text/plain": [
              "np.int64(0)"
            ]
          },
          "metadata": {},
          "execution_count": 10
        }
      ],
      "execution_count": 10
    },
    {
      "cell_type": "code",
      "source": [
        "df['Rating'].isna().sum()"
      ],
      "metadata": {
        "trusted": true,
        "execution": {
          "iopub.status.busy": "2025-09-13T18:48:09.450648Z",
          "iopub.execute_input": "2025-09-13T18:48:09.450885Z",
          "iopub.status.idle": "2025-09-13T18:48:09.457226Z",
          "shell.execute_reply.started": "2025-09-13T18:48:09.450868Z",
          "shell.execute_reply": "2025-09-13T18:48:09.45645Z"
        },
        "id": "HsgWM36cbxVv",
        "outputId": "04e0672d-3139-4c58-bb5b-57e1b058ddad",
        "colab": {
          "base_uri": "https://localhost:8080/"
        }
      },
      "outputs": [
        {
          "output_type": "execute_result",
          "data": {
            "text/plain": [
              "np.int64(1463)"
            ]
          },
          "metadata": {},
          "execution_count": 11
        }
      ],
      "execution_count": 11
    },
    {
      "cell_type": "code",
      "source": [
        "avg_rating = df['Rating'].mean()\n",
        "df['Rating'].fillna(avg_rating, inplace=True)"
      ],
      "metadata": {
        "trusted": true,
        "execution": {
          "iopub.status.busy": "2025-09-13T18:48:09.458316Z",
          "iopub.execute_input": "2025-09-13T18:48:09.459257Z",
          "iopub.status.idle": "2025-09-13T18:48:09.476242Z",
          "shell.execute_reply.started": "2025-09-13T18:48:09.459232Z",
          "shell.execute_reply": "2025-09-13T18:48:09.475261Z"
        },
        "id": "gUO48OD3bxVv",
        "outputId": "023a0fb6-df96-4d80-bb1f-d9d4ad2d7593",
        "colab": {
          "base_uri": "https://localhost:8080/"
        }
      },
      "outputs": [
        {
          "output_type": "stream",
          "name": "stderr",
          "text": [
            "/tmp/ipython-input-2920554756.py:2: FutureWarning: A value is trying to be set on a copy of a DataFrame or Series through chained assignment using an inplace method.\n",
            "The behavior will change in pandas 3.0. This inplace method will never work because the intermediate object on which we are setting values always behaves as a copy.\n",
            "\n",
            "For example, when doing 'df[col].method(value, inplace=True)', try using 'df.method({col: value}, inplace=True)' or df[col] = df[col].method(value) instead, to perform the operation inplace on the original object.\n",
            "\n",
            "\n",
            "  df['Rating'].fillna(avg_rating, inplace=True)\n"
          ]
        }
      ],
      "execution_count": 12
    },
    {
      "cell_type": "code",
      "source": [
        "df['Rating'].isna().sum()"
      ],
      "metadata": {
        "trusted": true,
        "execution": {
          "iopub.status.busy": "2025-09-13T18:48:09.477209Z",
          "iopub.execute_input": "2025-09-13T18:48:09.477513Z",
          "iopub.status.idle": "2025-09-13T18:48:09.497447Z",
          "shell.execute_reply.started": "2025-09-13T18:48:09.477487Z",
          "shell.execute_reply": "2025-09-13T18:48:09.496551Z"
        },
        "id": "0xaK58M7bxVw",
        "outputId": "d3d46944-08fd-456d-e130-8a182d7ad792",
        "colab": {
          "base_uri": "https://localhost:8080/"
        }
      },
      "outputs": [
        {
          "output_type": "execute_result",
          "data": {
            "text/plain": [
              "np.int64(0)"
            ]
          },
          "metadata": {},
          "execution_count": 13
        }
      ],
      "execution_count": 13
    },
    {
      "cell_type": "code",
      "source": [
        "print(df['Rating'].dtype)"
      ],
      "metadata": {
        "trusted": true,
        "execution": {
          "iopub.status.busy": "2025-09-13T18:48:09.49857Z",
          "iopub.execute_input": "2025-09-13T18:48:09.49958Z",
          "iopub.status.idle": "2025-09-13T18:48:09.514383Z",
          "shell.execute_reply.started": "2025-09-13T18:48:09.49954Z",
          "shell.execute_reply": "2025-09-13T18:48:09.513428Z"
        },
        "id": "Fimji0PObxVx",
        "outputId": "88afa2fb-11a4-4f1a-aae7-b069b1068b8e",
        "colab": {
          "base_uri": "https://localhost:8080/"
        }
      },
      "outputs": [
        {
          "output_type": "stream",
          "name": "stdout",
          "text": [
            "float64\n"
          ]
        }
      ],
      "execution_count": 14
    },
    {
      "cell_type": "code",
      "source": [
        "df['Reviews'] = pd.to_numeric(df['Reviews'], errors='coerce')"
      ],
      "metadata": {
        "trusted": true,
        "execution": {
          "iopub.status.busy": "2025-09-13T18:48:09.515604Z",
          "iopub.execute_input": "2025-09-13T18:48:09.51592Z",
          "iopub.status.idle": "2025-09-13T18:48:09.538312Z",
          "shell.execute_reply.started": "2025-09-13T18:48:09.51589Z",
          "shell.execute_reply": "2025-09-13T18:48:09.53713Z"
        },
        "id": "RJ38VOYTbxVx"
      },
      "outputs": [],
      "execution_count": 15
    },
    {
      "cell_type": "code",
      "source": [
        "print(df['Reviews'].dtype)\n",
        "print(df['Reviews'].head())"
      ],
      "metadata": {
        "trusted": true,
        "execution": {
          "iopub.status.busy": "2025-09-13T18:48:09.539299Z",
          "iopub.execute_input": "2025-09-13T18:48:09.539601Z",
          "iopub.status.idle": "2025-09-13T18:48:09.56068Z",
          "shell.execute_reply.started": "2025-09-13T18:48:09.539574Z",
          "shell.execute_reply": "2025-09-13T18:48:09.559941Z"
        },
        "id": "uOGFkiD3bxVy",
        "outputId": "a16c156a-58b6-4e72-a3d8-d9bc5a234dbd",
        "colab": {
          "base_uri": "https://localhost:8080/"
        }
      },
      "outputs": [
        {
          "output_type": "stream",
          "name": "stdout",
          "text": [
            "float64\n",
            "0       159.0\n",
            "1       967.0\n",
            "2     87510.0\n",
            "3    215644.0\n",
            "4       967.0\n",
            "Name: Reviews, dtype: float64\n"
          ]
        }
      ],
      "execution_count": 16
    },
    {
      "cell_type": "code",
      "source": [
        "df['Reviews'] = df['Reviews'].fillna(0).astype(int)"
      ],
      "metadata": {
        "trusted": true,
        "execution": {
          "iopub.status.busy": "2025-09-13T18:48:09.561774Z",
          "iopub.execute_input": "2025-09-13T18:48:09.562092Z",
          "iopub.status.idle": "2025-09-13T18:48:09.580548Z",
          "shell.execute_reply.started": "2025-09-13T18:48:09.562045Z",
          "shell.execute_reply": "2025-09-13T18:48:09.579566Z"
        },
        "id": "thuxSv-HbxVy"
      },
      "outputs": [],
      "execution_count": 17
    },
    {
      "cell_type": "code",
      "source": [
        "df['Reviews'] = df['Reviews'].astype(int)"
      ],
      "metadata": {
        "trusted": true,
        "execution": {
          "iopub.status.busy": "2025-09-13T18:48:09.581409Z",
          "iopub.execute_input": "2025-09-13T18:48:09.5817Z",
          "iopub.status.idle": "2025-09-13T18:48:09.60198Z",
          "shell.execute_reply.started": "2025-09-13T18:48:09.58168Z",
          "shell.execute_reply": "2025-09-13T18:48:09.600968Z"
        },
        "id": "FcycnbspbxVy"
      },
      "outputs": [],
      "execution_count": 18
    },
    {
      "cell_type": "code",
      "source": [
        "print(df['Reviews'].dtype)"
      ],
      "metadata": {
        "trusted": true,
        "execution": {
          "iopub.status.busy": "2025-09-13T18:48:09.603176Z",
          "iopub.execute_input": "2025-09-13T18:48:09.603452Z",
          "iopub.status.idle": "2025-09-13T18:48:09.623855Z",
          "shell.execute_reply.started": "2025-09-13T18:48:09.603432Z",
          "shell.execute_reply": "2025-09-13T18:48:09.623036Z"
        },
        "id": "MpioytWqbxVz",
        "outputId": "55b16faf-fdb5-464b-f241-e2e028c3ea76",
        "colab": {
          "base_uri": "https://localhost:8080/"
        }
      },
      "outputs": [
        {
          "output_type": "stream",
          "name": "stdout",
          "text": [
            "int64\n"
          ]
        }
      ],
      "execution_count": 19
    },
    {
      "cell_type": "code",
      "source": [
        "def convert_size(value):\n",
        "    if value == \"Varies with device\":\n",
        "        return np.nan\n",
        "    elif isinstance(value, str) and value.endswith('M'):\n",
        "        return float(value[:-1])\n",
        "    elif isinstance(value, str) and value.endswith('k'):\n",
        "        return float(value[:-1]) / 1000\n",
        "    else:\n",
        "        return np.nan\n",
        "\n",
        "df['Size'] = df['Size'].apply(convert_size)"
      ],
      "metadata": {
        "trusted": true,
        "execution": {
          "iopub.status.busy": "2025-09-13T18:48:09.62475Z",
          "iopub.execute_input": "2025-09-13T18:48:09.624988Z",
          "iopub.status.idle": "2025-09-13T18:48:09.675401Z",
          "shell.execute_reply.started": "2025-09-13T18:48:09.624969Z",
          "shell.execute_reply": "2025-09-13T18:48:09.674375Z"
        },
        "id": "Ugj1xXtkbxVz"
      },
      "outputs": [],
      "execution_count": 20
    },
    {
      "cell_type": "code",
      "source": [
        "print(df['Size'].head(10))\n",
        "print(df['Size'].dtype)"
      ],
      "metadata": {
        "trusted": true,
        "execution": {
          "iopub.status.busy": "2025-09-13T18:48:09.678466Z",
          "iopub.execute_input": "2025-09-13T18:48:09.678755Z",
          "iopub.status.idle": "2025-09-13T18:48:09.702413Z",
          "shell.execute_reply.started": "2025-09-13T18:48:09.678733Z",
          "shell.execute_reply": "2025-09-13T18:48:09.701187Z"
        },
        "id": "_AAaEG6VbxVz",
        "outputId": "5ed230da-da7d-4d3c-9f0a-aef9fcbd167a",
        "colab": {
          "base_uri": "https://localhost:8080/"
        }
      },
      "outputs": [
        {
          "output_type": "stream",
          "name": "stdout",
          "text": [
            "0    19.0\n",
            "1    14.0\n",
            "2     8.7\n",
            "3    25.0\n",
            "4     2.8\n",
            "5     5.6\n",
            "6    19.0\n",
            "7    29.0\n",
            "8    33.0\n",
            "9     3.1\n",
            "Name: Size, dtype: float64\n",
            "float64\n"
          ]
        }
      ],
      "execution_count": 21
    },
    {
      "cell_type": "code",
      "source": [
        "df.rename(columns={'Size': 'Size (in MB)'}, inplace=True)"
      ],
      "metadata": {
        "trusted": true,
        "execution": {
          "iopub.status.busy": "2025-09-13T18:48:09.703443Z",
          "iopub.execute_input": "2025-09-13T18:48:09.703782Z",
          "iopub.status.idle": "2025-09-13T18:48:09.723236Z",
          "shell.execute_reply.started": "2025-09-13T18:48:09.703756Z",
          "shell.execute_reply": "2025-09-13T18:48:09.72232Z"
        },
        "id": "0Xy1mtqwbxVz"
      },
      "outputs": [],
      "execution_count": 22
    },
    {
      "cell_type": "code",
      "source": [
        "df['Installs'] = df['Installs'].str.replace(r'[\\+,]', '', regex=True)"
      ],
      "metadata": {
        "trusted": true,
        "execution": {
          "iopub.status.busy": "2025-09-13T18:48:09.790703Z",
          "iopub.execute_input": "2025-09-13T18:48:09.791003Z",
          "iopub.status.idle": "2025-09-13T18:48:09.808041Z",
          "shell.execute_reply.started": "2025-09-13T18:48:09.79098Z",
          "shell.execute_reply": "2025-09-13T18:48:09.806774Z"
        },
        "id": "EVpAI-oCbxV0"
      },
      "outputs": [],
      "execution_count": 23
    },
    {
      "cell_type": "code",
      "source": [
        "df['Installs'] = df['Installs'].replace('Free', np.nan)"
      ],
      "metadata": {
        "trusted": true,
        "execution": {
          "iopub.status.busy": "2025-09-13T18:48:09.82111Z",
          "iopub.execute_input": "2025-09-13T18:48:09.821562Z",
          "iopub.status.idle": "2025-09-13T18:48:09.830001Z",
          "shell.execute_reply.started": "2025-09-13T18:48:09.821518Z",
          "shell.execute_reply": "2025-09-13T18:48:09.828974Z"
        },
        "id": "7vcTHM03bxV0"
      },
      "outputs": [],
      "execution_count": 24
    },
    {
      "cell_type": "code",
      "source": [
        "df['Installs'] = pd.to_numeric(df['Installs'],errors='coerce')"
      ],
      "metadata": {
        "trusted": true,
        "execution": {
          "iopub.status.busy": "2025-09-13T18:48:09.83164Z",
          "iopub.execute_input": "2025-09-13T18:48:09.831924Z",
          "iopub.status.idle": "2025-09-13T18:48:09.856398Z",
          "shell.execute_reply.started": "2025-09-13T18:48:09.831905Z",
          "shell.execute_reply": "2025-09-13T18:48:09.855255Z"
        },
        "id": "0QrPC5nMbxV0"
      },
      "outputs": [],
      "execution_count": 25
    },
    {
      "cell_type": "code",
      "source": [
        "df['Installs'] = df['Installs'].astype('Int64')"
      ],
      "metadata": {
        "trusted": true,
        "execution": {
          "iopub.status.busy": "2025-09-13T18:48:09.857889Z",
          "iopub.execute_input": "2025-09-13T18:48:09.858234Z",
          "iopub.status.idle": "2025-09-13T18:48:09.880912Z",
          "shell.execute_reply.started": "2025-09-13T18:48:09.858206Z",
          "shell.execute_reply": "2025-09-13T18:48:09.87988Z"
        },
        "id": "orGDiPbbbxV0"
      },
      "outputs": [],
      "execution_count": 26
    },
    {
      "cell_type": "code",
      "source": [
        "df.info()"
      ],
      "metadata": {
        "colab": {
          "base_uri": "https://localhost:8080/"
        },
        "id": "ZKZIUzjRoXv3",
        "outputId": "5dc112c4-7c6f-4df9-edfd-99763194110d"
      },
      "execution_count": 27,
      "outputs": [
        {
          "output_type": "stream",
          "name": "stdout",
          "text": [
            "<class 'pandas.core.frame.DataFrame'>\n",
            "Index: 9660 entries, 0 to 10840\n",
            "Data columns (total 13 columns):\n",
            " #   Column          Non-Null Count  Dtype  \n",
            "---  ------          --------------  -----  \n",
            " 0   App             9660 non-null   object \n",
            " 1   Category        9660 non-null   object \n",
            " 2   Rating          9660 non-null   float64\n",
            " 3   Reviews         9660 non-null   int64  \n",
            " 4   Size (in MB)    8432 non-null   float64\n",
            " 5   Installs        9659 non-null   Int64  \n",
            " 6   Type            9659 non-null   object \n",
            " 7   Price           9660 non-null   object \n",
            " 8   Content Rating  9659 non-null   object \n",
            " 9   Genres          9660 non-null   object \n",
            " 10  Last Updated    9660 non-null   object \n",
            " 11  Current Ver     9652 non-null   object \n",
            " 12  Android Ver     9657 non-null   object \n",
            "dtypes: Int64(1), float64(2), int64(1), object(9)\n",
            "memory usage: 1.0+ MB\n"
          ]
        }
      ]
    },
    {
      "cell_type": "code",
      "source": [
        "df['Type'].isna().sum()"
      ],
      "metadata": {
        "colab": {
          "base_uri": "https://localhost:8080/"
        },
        "id": "wgeR0HkwmNmi",
        "outputId": "5bd839e6-7739-49c0-be31-ca8758644976"
      },
      "execution_count": 28,
      "outputs": [
        {
          "output_type": "execute_result",
          "data": {
            "text/plain": [
              "np.int64(1)"
            ]
          },
          "metadata": {},
          "execution_count": 28
        }
      ]
    },
    {
      "cell_type": "code",
      "source": [
        "df = df[df['Type'] != '0']\n",
        "df = df[df['Type'] != '']\n",
        "df = df.dropna(subset=['Type'])"
      ],
      "metadata": {
        "id": "1aHfDNvVwQXH"
      },
      "execution_count": 29,
      "outputs": []
    },
    {
      "cell_type": "code",
      "source": [
        "print(df['Type'].unique())"
      ],
      "metadata": {
        "colab": {
          "base_uri": "https://localhost:8080/"
        },
        "id": "i2p0Dkh7wUUo",
        "outputId": "e2f31c60-b058-4adc-abe7-b2249061a6c1"
      },
      "execution_count": 30,
      "outputs": [
        {
          "output_type": "stream",
          "name": "stdout",
          "text": [
            "['Free' 'Paid']\n"
          ]
        }
      ]
    },
    {
      "cell_type": "code",
      "source": [
        "df['Price'] = df['Price'].astype(str).str.replace(r'[^\\d.]', '', regex=True)"
      ],
      "metadata": {
        "trusted": true,
        "execution": {
          "iopub.status.busy": "2025-09-13T18:48:09.971298Z",
          "iopub.execute_input": "2025-09-13T18:48:09.97166Z",
          "iopub.status.idle": "2025-09-13T18:48:09.987429Z",
          "shell.execute_reply.started": "2025-09-13T18:48:09.971627Z",
          "shell.execute_reply": "2025-09-13T18:48:09.986335Z"
        },
        "id": "OjoibOVbbxV1"
      },
      "outputs": [],
      "execution_count": 31
    },
    {
      "cell_type": "code",
      "source": [
        "df['Price'] = pd.to_numeric(df['Price'], errors='coerce')"
      ],
      "metadata": {
        "trusted": true,
        "execution": {
          "iopub.status.busy": "2025-09-13T18:48:09.988758Z",
          "iopub.execute_input": "2025-09-13T18:48:09.989003Z",
          "iopub.status.idle": "2025-09-13T18:48:10.011473Z",
          "shell.execute_reply.started": "2025-09-13T18:48:09.988984Z",
          "shell.execute_reply": "2025-09-13T18:48:10.010379Z"
        },
        "id": "xAi_4L9YbxV2"
      },
      "outputs": [],
      "execution_count": 32
    },
    {
      "cell_type": "code",
      "source": [
        "df['Price'] = df['Price'].fillna(0)"
      ],
      "metadata": {
        "trusted": true,
        "execution": {
          "iopub.status.busy": "2025-09-13T18:48:10.012708Z",
          "iopub.execute_input": "2025-09-13T18:48:10.013013Z",
          "iopub.status.idle": "2025-09-13T18:48:10.031537Z",
          "shell.execute_reply.started": "2025-09-13T18:48:10.012984Z",
          "shell.execute_reply": "2025-09-13T18:48:10.030541Z"
        },
        "id": "BUYwVB0IbxV2"
      },
      "outputs": [],
      "execution_count": 33
    },
    {
      "cell_type": "code",
      "source": [
        "print(df['Price'].unique()[:10])"
      ],
      "metadata": {
        "trusted": true,
        "execution": {
          "iopub.status.busy": "2025-09-13T18:48:10.046968Z",
          "iopub.execute_input": "2025-09-13T18:48:10.047336Z",
          "iopub.status.idle": "2025-09-13T18:48:10.055479Z",
          "shell.execute_reply.started": "2025-09-13T18:48:10.047309Z",
          "shell.execute_reply": "2025-09-13T18:48:10.054361Z"
        },
        "id": "9yMZrs85bxV2",
        "outputId": "ef601f11-fc19-43ba-a6f5-fa445e922a52",
        "colab": {
          "base_uri": "https://localhost:8080/"
        }
      },
      "outputs": [
        {
          "output_type": "stream",
          "name": "stdout",
          "text": [
            "[0.   4.99 3.99 6.99 1.49 2.99 7.99 5.99 3.49 1.99]\n"
          ]
        }
      ],
      "execution_count": 34
    },
    {
      "cell_type": "code",
      "source": [
        "df.rename(columns={'Price': 'Price (in $)'}, inplace=True)"
      ],
      "metadata": {
        "trusted": true,
        "execution": {
          "iopub.status.busy": "2025-09-13T18:48:10.066495Z",
          "iopub.execute_input": "2025-09-13T18:48:10.066767Z",
          "iopub.status.idle": "2025-09-13T18:48:10.075178Z",
          "shell.execute_reply.started": "2025-09-13T18:48:10.066747Z",
          "shell.execute_reply": "2025-09-13T18:48:10.074301Z"
        },
        "id": "dZ8bAr1QbxV2"
      },
      "outputs": [],
      "execution_count": 35
    },
    {
      "cell_type": "code",
      "source": [
        "df['Content Rating'].isna().sum()"
      ],
      "metadata": {
        "trusted": true,
        "execution": {
          "iopub.status.busy": "2025-09-13T18:48:10.086902Z",
          "iopub.execute_input": "2025-09-13T18:48:10.087447Z",
          "iopub.status.idle": "2025-09-13T18:48:10.099929Z",
          "shell.execute_reply.started": "2025-09-13T18:48:10.087413Z",
          "shell.execute_reply": "2025-09-13T18:48:10.099051Z"
        },
        "id": "uZv4J9i0bxV3",
        "outputId": "2d7834c0-7392-4f0f-d730-b9492295bde8",
        "colab": {
          "base_uri": "https://localhost:8080/"
        }
      },
      "outputs": [
        {
          "output_type": "execute_result",
          "data": {
            "text/plain": [
              "np.int64(0)"
            ]
          },
          "metadata": {},
          "execution_count": 36
        }
      ],
      "execution_count": 36
    },
    {
      "cell_type": "code",
      "source": [
        "df['Content Rating'].fillna(df['Content Rating'].mode()[0], inplace=True)"
      ],
      "metadata": {
        "trusted": true,
        "execution": {
          "iopub.status.busy": "2025-09-13T18:48:10.111169Z",
          "iopub.execute_input": "2025-09-13T18:48:10.111479Z",
          "iopub.status.idle": "2025-09-13T18:48:10.125871Z",
          "shell.execute_reply.started": "2025-09-13T18:48:10.111457Z",
          "shell.execute_reply": "2025-09-13T18:48:10.124761Z"
        },
        "id": "KOHUlsc_bxV3",
        "outputId": "37eaf784-e4eb-4bb5-c555-23d7dcb484ca",
        "colab": {
          "base_uri": "https://localhost:8080/"
        }
      },
      "outputs": [
        {
          "output_type": "stream",
          "name": "stderr",
          "text": [
            "/tmp/ipython-input-106931592.py:1: FutureWarning: A value is trying to be set on a copy of a DataFrame or Series through chained assignment using an inplace method.\n",
            "The behavior will change in pandas 3.0. This inplace method will never work because the intermediate object on which we are setting values always behaves as a copy.\n",
            "\n",
            "For example, when doing 'df[col].method(value, inplace=True)', try using 'df.method({col: value}, inplace=True)' or df[col] = df[col].method(value) instead, to perform the operation inplace on the original object.\n",
            "\n",
            "\n",
            "  df['Content Rating'].fillna(df['Content Rating'].mode()[0], inplace=True)\n"
          ]
        }
      ],
      "execution_count": 37
    },
    {
      "cell_type": "code",
      "source": [
        "df['Last Updated'] = pd.to_datetime(df['Last Updated'], errors='coerce')"
      ],
      "metadata": {
        "trusted": true,
        "execution": {
          "iopub.status.busy": "2025-09-13T18:48:10.127142Z",
          "iopub.execute_input": "2025-09-13T18:48:10.127356Z",
          "iopub.status.idle": "2025-09-13T18:48:10.156805Z",
          "shell.execute_reply.started": "2025-09-13T18:48:10.127339Z",
          "shell.execute_reply": "2025-09-13T18:48:10.155728Z"
        },
        "id": "4bhEHOg2bxV4"
      },
      "outputs": [],
      "execution_count": 38
    },
    {
      "cell_type": "code",
      "source": [
        "df['Android Ver'].unique()"
      ],
      "metadata": {
        "trusted": true,
        "execution": {
          "iopub.status.busy": "2025-09-13T18:48:10.166036Z",
          "iopub.execute_input": "2025-09-13T18:48:10.166343Z",
          "iopub.status.idle": "2025-09-13T18:48:10.173514Z",
          "shell.execute_reply.started": "2025-09-13T18:48:10.166318Z",
          "shell.execute_reply": "2025-09-13T18:48:10.172571Z"
        },
        "id": "vG1mYvC6bxV9",
        "outputId": "1e93c0e8-f170-482d-dd81-44e72f19b2c3",
        "colab": {
          "base_uri": "https://localhost:8080/"
        }
      },
      "outputs": [
        {
          "output_type": "execute_result",
          "data": {
            "text/plain": [
              "array(['4.0.3 and up', '4.2 and up', '4.4 and up', '2.3 and up',\n",
              "       '3.0 and up', '4.1 and up', '4.0 and up', '2.3.3 and up',\n",
              "       'Varies with device', '2.2 and up', '5.0 and up', '6.0 and up',\n",
              "       '1.6 and up', '1.5 and up', '2.1 and up', '7.0 and up',\n",
              "       '5.1 and up', '4.3 and up', '4.0.3 - 7.1.1', '2.0 and up',\n",
              "       '3.2 and up', '4.4W and up', '7.1 and up', '7.0 - 7.1.1',\n",
              "       '8.0 and up', '5.0 - 8.0', '3.1 and up', '2.0.1 and up',\n",
              "       '4.1 - 7.1.1', nan, '5.0 - 6.0', '1.0 and up', '2.2 - 7.1.1',\n",
              "       '5.0 - 7.1.1'], dtype=object)"
            ]
          },
          "metadata": {},
          "execution_count": 39
        }
      ],
      "execution_count": 39
    },
    {
      "cell_type": "code",
      "source": [
        "df['Current Ver'].unique()"
      ],
      "metadata": {
        "trusted": true,
        "execution": {
          "iopub.status.busy": "2025-09-13T18:48:10.226877Z",
          "iopub.execute_input": "2025-09-13T18:48:10.227224Z",
          "iopub.status.idle": "2025-09-13T18:48:10.247368Z",
          "shell.execute_reply.started": "2025-09-13T18:48:10.2272Z",
          "shell.execute_reply": "2025-09-13T18:48:10.246468Z"
        },
        "id": "8DFmhAxfbxV-",
        "outputId": "9e687a66-ea22-45bf-860c-25bac0dfd2cb",
        "colab": {
          "base_uri": "https://localhost:8080/"
        }
      },
      "outputs": [
        {
          "output_type": "execute_result",
          "data": {
            "text/plain": [
              "array(['1.0.0', '2.0.0', '1.2.4', ..., '1.0.612928', '0.3.4', '2.0.148.0'],\n",
              "      dtype=object)"
            ]
          },
          "metadata": {},
          "execution_count": 40
        }
      ],
      "execution_count": 40
    },
    {
      "cell_type": "code",
      "source": [
        "print(df[\"Current Ver\"].value_counts())\n"
      ],
      "metadata": {
        "trusted": true,
        "execution": {
          "iopub.status.busy": "2025-09-13T18:48:10.293815Z",
          "iopub.execute_input": "2025-09-13T18:48:10.294156Z",
          "iopub.status.idle": "2025-09-13T18:48:10.317657Z",
          "shell.execute_reply.started": "2025-09-13T18:48:10.29413Z",
          "shell.execute_reply": "2025-09-13T18:48:10.31636Z"
        },
        "id": "CzD2XxDXbxV-",
        "outputId": "75325b51-c287-49ba-d8a2-5685fe02baea",
        "colab": {
          "base_uri": "https://localhost:8080/"
        }
      },
      "outputs": [
        {
          "output_type": "stream",
          "name": "stdout",
          "text": [
            "Current Ver\n",
            "Varies with device    1054\n",
            "1.0                    799\n",
            "1.1                    260\n",
            "1.2                    176\n",
            "2.0                    149\n",
            "                      ... \n",
            "0.7.1                    1\n",
            "4.6.71                   1\n",
            "2.0.148.0                1\n",
            "1.0.0.96                 1\n",
            "1.022                    1\n",
            "Name: count, Length: 2817, dtype: int64\n"
          ]
        }
      ],
      "execution_count": 41
    },
    {
      "cell_type": "code",
      "source": [
        "df.info()"
      ],
      "metadata": {
        "trusted": true,
        "execution": {
          "iopub.status.busy": "2025-09-13T18:48:10.319551Z",
          "iopub.execute_input": "2025-09-13T18:48:10.319814Z",
          "iopub.status.idle": "2025-09-13T18:48:10.371839Z",
          "shell.execute_reply.started": "2025-09-13T18:48:10.319793Z",
          "shell.execute_reply": "2025-09-13T18:48:10.370898Z"
        },
        "id": "mfcvBg3abxV-",
        "outputId": "061dac36-5a20-4c36-9870-414b43baf328",
        "colab": {
          "base_uri": "https://localhost:8080/"
        }
      },
      "outputs": [
        {
          "output_type": "stream",
          "name": "stdout",
          "text": [
            "<class 'pandas.core.frame.DataFrame'>\n",
            "Index: 9658 entries, 0 to 10840\n",
            "Data columns (total 13 columns):\n",
            " #   Column          Non-Null Count  Dtype         \n",
            "---  ------          --------------  -----         \n",
            " 0   App             9658 non-null   object        \n",
            " 1   Category        9658 non-null   object        \n",
            " 2   Rating          9658 non-null   float64       \n",
            " 3   Reviews         9658 non-null   int64         \n",
            " 4   Size (in MB)    8432 non-null   float64       \n",
            " 5   Installs        9658 non-null   Int64         \n",
            " 6   Type            9658 non-null   object        \n",
            " 7   Price (in $)    9658 non-null   float64       \n",
            " 8   Content Rating  9658 non-null   object        \n",
            " 9   Genres          9658 non-null   object        \n",
            " 10  Last Updated    9658 non-null   datetime64[ns]\n",
            " 11  Current Ver     9650 non-null   object        \n",
            " 12  Android Ver     9656 non-null   object        \n",
            "dtypes: Int64(1), datetime64[ns](1), float64(3), int64(1), object(7)\n",
            "memory usage: 1.0+ MB\n"
          ]
        }
      ],
      "execution_count": 42
    },
    {
      "cell_type": "code",
      "source": [
        "df.to_csv(\"cleaned_googleplaystore.csv\", index=False)"
      ],
      "metadata": {
        "trusted": true,
        "execution": {
          "iopub.status.busy": "2025-09-13T18:48:10.372783Z",
          "iopub.execute_input": "2025-09-13T18:48:10.373014Z",
          "iopub.status.idle": "2025-09-13T18:48:10.481011Z",
          "shell.execute_reply.started": "2025-09-13T18:48:10.372996Z",
          "shell.execute_reply": "2025-09-13T18:48:10.480252Z"
        },
        "id": "Cuu528mnbxV_"
      },
      "outputs": [],
      "execution_count": 43
    },
    {
      "cell_type": "markdown",
      "source": [
        "**Basic Level Questions**"
      ],
      "metadata": {
        "id": "GrueDeOlbxV_"
      }
    },
    {
      "cell_type": "markdown",
      "source": [
        "1. What is the average rating of apps in the dataset?"
      ],
      "metadata": {
        "id": "kyKbETeVbxV_"
      }
    },
    {
      "cell_type": "code",
      "source": [
        "avg_rating = df['Rating'].mean()\n",
        "print(\"Average App Rating:\", round(avg_rating,1))"
      ],
      "metadata": {
        "trusted": true,
        "execution": {
          "iopub.status.busy": "2025-09-13T18:48:10.482646Z",
          "iopub.execute_input": "2025-09-13T18:48:10.482913Z",
          "iopub.status.idle": "2025-09-13T18:48:10.48952Z",
          "shell.execute_reply.started": "2025-09-13T18:48:10.482893Z",
          "shell.execute_reply": "2025-09-13T18:48:10.4886Z"
        },
        "id": "T8utH2SMbxWA",
        "outputId": "27cbba25-dbd4-46ed-942b-6f71f9bc9540",
        "colab": {
          "base_uri": "https://localhost:8080/"
        }
      },
      "outputs": [
        {
          "output_type": "stream",
          "name": "stdout",
          "text": [
            "Average App Rating: 4.2\n"
          ]
        }
      ],
      "execution_count": 44
    },
    {
      "cell_type": "markdown",
      "source": [
        "2. How many unique categories of apps are there?"
      ],
      "metadata": {
        "id": "8gycO789bxWA"
      }
    },
    {
      "cell_type": "code",
      "source": [
        "unique_categories = df['Category'].nunique()\n",
        "print(\"Number of unique app categories:\", unique_categories)\n",
        "print(\"\\nList of categories:\")\n",
        "print(df['Category'].unique())"
      ],
      "metadata": {
        "trusted": true,
        "execution": {
          "iopub.status.busy": "2025-09-13T18:48:10.490498Z",
          "iopub.execute_input": "2025-09-13T18:48:10.49075Z",
          "iopub.status.idle": "2025-09-13T18:48:10.512036Z",
          "shell.execute_reply.started": "2025-09-13T18:48:10.490732Z",
          "shell.execute_reply": "2025-09-13T18:48:10.511034Z"
        },
        "id": "7Qiuqi0lbxWB",
        "outputId": "83654cc1-87fb-4635-d1ae-0b1950431f1a",
        "colab": {
          "base_uri": "https://localhost:8080/"
        }
      },
      "outputs": [
        {
          "output_type": "stream",
          "name": "stdout",
          "text": [
            "Number of unique app categories: 33\n",
            "\n",
            "List of categories:\n",
            "['ART_AND_DESIGN' 'AUTO_AND_VEHICLES' 'BEAUTY' 'BOOKS_AND_REFERENCE'\n",
            " 'BUSINESS' 'COMICS' 'COMMUNICATION' 'DATING' 'EDUCATION' 'ENTERTAINMENT'\n",
            " 'EVENTS' 'FINANCE' 'FOOD_AND_DRINK' 'HEALTH_AND_FITNESS' 'HOUSE_AND_HOME'\n",
            " 'LIBRARIES_AND_DEMO' 'LIFESTYLE' 'GAME' 'FAMILY' 'MEDICAL' 'SOCIAL'\n",
            " 'SHOPPING' 'PHOTOGRAPHY' 'SPORTS' 'TRAVEL_AND_LOCAL' 'TOOLS'\n",
            " 'PERSONALIZATION' 'PRODUCTIVITY' 'PARENTING' 'WEATHER' 'VIDEO_PLAYERS'\n",
            " 'NEWS_AND_MAGAZINES' 'MAPS_AND_NAVIGATION']\n"
          ]
        }
      ],
      "execution_count": 45
    },
    {
      "cell_type": "code",
      "source": [
        "df = df[df['Category'] != '1.9']"
      ],
      "metadata": {
        "trusted": true,
        "execution": {
          "iopub.status.busy": "2025-09-13T18:48:10.513023Z",
          "iopub.execute_input": "2025-09-13T18:48:10.513377Z",
          "iopub.status.idle": "2025-09-13T18:48:10.532927Z",
          "shell.execute_reply.started": "2025-09-13T18:48:10.513351Z",
          "shell.execute_reply": "2025-09-13T18:48:10.532053Z"
        },
        "id": "3PvvS0xcbxWB"
      },
      "outputs": [],
      "execution_count": 46
    },
    {
      "cell_type": "code",
      "source": [
        "unique_categories = df['Category'].nunique()\n",
        "print(\"Number of unique app categories:\", unique_categories)\n",
        "print(\"\\nList of categories:\")\n",
        "print(df['Category'].unique())"
      ],
      "metadata": {
        "trusted": true,
        "execution": {
          "iopub.status.busy": "2025-09-13T18:48:10.53365Z",
          "iopub.execute_input": "2025-09-13T18:48:10.533932Z",
          "iopub.status.idle": "2025-09-13T18:48:10.554847Z",
          "shell.execute_reply.started": "2025-09-13T18:48:10.533904Z",
          "shell.execute_reply": "2025-09-13T18:48:10.553698Z"
        },
        "id": "N9qQURk2bxWB",
        "outputId": "8ca7fabf-dc5b-44a0-a360-9975393e536c",
        "colab": {
          "base_uri": "https://localhost:8080/"
        }
      },
      "outputs": [
        {
          "output_type": "stream",
          "name": "stdout",
          "text": [
            "Number of unique app categories: 33\n",
            "\n",
            "List of categories:\n",
            "['ART_AND_DESIGN' 'AUTO_AND_VEHICLES' 'BEAUTY' 'BOOKS_AND_REFERENCE'\n",
            " 'BUSINESS' 'COMICS' 'COMMUNICATION' 'DATING' 'EDUCATION' 'ENTERTAINMENT'\n",
            " 'EVENTS' 'FINANCE' 'FOOD_AND_DRINK' 'HEALTH_AND_FITNESS' 'HOUSE_AND_HOME'\n",
            " 'LIBRARIES_AND_DEMO' 'LIFESTYLE' 'GAME' 'FAMILY' 'MEDICAL' 'SOCIAL'\n",
            " 'SHOPPING' 'PHOTOGRAPHY' 'SPORTS' 'TRAVEL_AND_LOCAL' 'TOOLS'\n",
            " 'PERSONALIZATION' 'PRODUCTIVITY' 'PARENTING' 'WEATHER' 'VIDEO_PLAYERS'\n",
            " 'NEWS_AND_MAGAZINES' 'MAPS_AND_NAVIGATION']\n"
          ]
        }
      ],
      "execution_count": 47
    },
    {
      "cell_type": "markdown",
      "source": [
        "3. What is the distribution of app sizes?"
      ],
      "metadata": {
        "id": "GivLQ5GmbxWC"
      }
    },
    {
      "cell_type": "code",
      "source": [
        "import matplotlib.pyplot as plt\n",
        "import seaborn as sns\n",
        "\n",
        "plt.figure(figsize=(10,6))\n",
        "sns.histplot(df['Size (in MB)'].dropna(), bins=50, kde=True)\n",
        "plt.title(\"Distribution of App Sizes (MB)\")\n",
        "plt.xlabel(\"Size (MB)\")\n",
        "plt.ylabel(\"Number of Apps\")\n",
        "plt.show()"
      ],
      "metadata": {
        "trusted": true,
        "execution": {
          "iopub.status.busy": "2025-09-13T18:48:10.556264Z",
          "iopub.execute_input": "2025-09-13T18:48:10.556734Z",
          "iopub.status.idle": "2025-09-13T18:48:12.201916Z",
          "shell.execute_reply.started": "2025-09-13T18:48:10.556695Z",
          "shell.execute_reply": "2025-09-13T18:48:12.200954Z"
        },
        "id": "9Deha-T_bxWC",
        "outputId": "34d20046-46af-43b4-d261-e989f1aab5bc",
        "colab": {
          "base_uri": "https://localhost:8080/",
          "height": 538
        }
      },
      "outputs": [
        {
          "output_type": "display_data",
          "data": {
            "text/plain": [
              "<Figure size 1000x600 with 1 Axes>"
            ],
            "image/png": "[encoded data removed]"
          },
          "metadata": {}
        }
      ],
      "execution_count": 48
    },
    {
      "cell_type": "markdown",
      "source": [
        "4. How many free vs paid apps are there?"
      ],
      "metadata": {
        "id": "cWusIXF1bxWC"
      }
    },
    {
      "cell_type": "code",
      "source": [
        "type_counts = df['Type'].value_counts()\n",
        "print(type_counts)"
      ],
      "metadata": {
        "trusted": true,
        "execution": {
          "iopub.status.busy": "2025-09-13T18:48:12.205104Z",
          "iopub.execute_input": "2025-09-13T18:48:12.205472Z",
          "iopub.status.idle": "2025-09-13T18:48:12.212726Z",
          "shell.execute_reply.started": "2025-09-13T18:48:12.205454Z",
          "shell.execute_reply": "2025-09-13T18:48:12.21178Z"
        },
        "id": "lVHVKgWTbxWC",
        "outputId": "9888cb52-584e-4e8a-f3c4-fbdbc0004c35",
        "colab": {
          "base_uri": "https://localhost:8080/"
        }
      },
      "outputs": [
        {
          "output_type": "stream",
          "name": "stdout",
          "text": [
            "Type\n",
            "Free    8902\n",
            "Paid     756\n",
            "Name: count, dtype: int64\n"
          ]
        }
      ],
      "execution_count": 49
    },
    {
      "cell_type": "code",
      "source": [
        "plt.figure(figsize=(6,4))\n",
        "sns.countplot(x='Type', data=df)\n",
        "plt.title('Number of Free vs Paid Apps')\n",
        "plt.xlabel('App Type')\n",
        "plt.ylabel('Number of Apps')\n",
        "plt.show()"
      ],
      "metadata": {
        "trusted": true,
        "execution": {
          "iopub.status.busy": "2025-09-13T18:48:12.213859Z",
          "iopub.execute_input": "2025-09-13T18:48:12.214229Z",
          "iopub.status.idle": "2025-09-13T18:48:12.352636Z",
          "shell.execute_reply.started": "2025-09-13T18:48:12.2142Z",
          "shell.execute_reply": "2025-09-13T18:48:12.351777Z"
        },
        "id": "CMDG4ipDbxWD",
        "outputId": "e2c41feb-d80b-44a3-d2ab-ea580bb0de1a",
        "colab": {
          "base_uri": "https://localhost:8080/",
          "height": 410
        }
      },
      "outputs": [
        {
          "output_type": "display_data",
          "data": {
            "text/plain": [
              "<Figure size 600x400 with 1 Axes>"
            ],
            "image/png": "[encoded data removed]"
          },
          "metadata": {}
        }
      ],
      "execution_count": 50
    },
    {
      "cell_type": "markdown",
      "source": [
        "5. What is the most common content rating for apps?"
      ],
      "metadata": {
        "id": "BIufkF6XbxWD"
      }
    },
    {
      "cell_type": "code",
      "source": [
        "common_content = df['Content Rating'].mode()[0]\n",
        "print(\"Most common content rating:\", common_content)"
      ],
      "metadata": {
        "trusted": true,
        "execution": {
          "iopub.status.busy": "2025-09-13T18:48:12.353637Z",
          "iopub.execute_input": "2025-09-13T18:48:12.353943Z",
          "iopub.status.idle": "2025-09-13T18:48:12.359746Z",
          "shell.execute_reply.started": "2025-09-13T18:48:12.353917Z",
          "shell.execute_reply": "2025-09-13T18:48:12.358957Z"
        },
        "id": "qtj-bMKFbxWD",
        "outputId": "10799c43-66bb-4511-e87c-0f13b5b7e410",
        "colab": {
          "base_uri": "https://localhost:8080/"
        }
      },
      "outputs": [
        {
          "output_type": "stream",
          "name": "stdout",
          "text": [
            "Most common content rating: Everyone\n"
          ]
        }
      ],
      "execution_count": 51
    },
    {
      "cell_type": "markdown",
      "source": [
        "6. What are the top 5 most installed apps?"
      ],
      "metadata": {
        "id": "HJPpWJvAbxWD"
      }
    },
    {
      "cell_type": "code",
      "source": [
        "top_installed = df[['App', 'Installs']].sort_values(by='Installs', ascending=False).head(5)\n",
        "print(top_installed)"
      ],
      "metadata": {
        "trusted": true,
        "execution": {
          "iopub.status.busy": "2025-09-13T18:48:12.360733Z",
          "iopub.execute_input": "2025-09-13T18:48:12.360972Z",
          "iopub.status.idle": "2025-09-13T18:48:12.385037Z",
          "shell.execute_reply.started": "2025-09-13T18:48:12.360954Z",
          "shell.execute_reply": "2025-09-13T18:48:12.383875Z"
        },
        "id": "Xy6eR83KbxWD",
        "outputId": "1acbc8e3-40fe-4bfe-d936-5267a6ea2bf3",
        "colab": {
          "base_uri": "https://localhost:8080/"
        }
      },
      "outputs": [
        {
          "output_type": "stream",
          "name": "stdout",
          "text": [
            "                    App    Installs\n",
            "865   Google Play Games  1000000000\n",
            "1654     Subway Surfers  1000000000\n",
            "3736        Google News  1000000000\n",
            "3665            YouTube  1000000000\n",
            "152   Google Play Books  1000000000\n"
          ]
        }
      ],
      "execution_count": 52
    },
    {
      "cell_type": "markdown",
      "source": [
        "7. How many apps have a rating of 4.0 and above?"
      ],
      "metadata": {
        "id": "ZP5uypJrbxWE"
      }
    },
    {
      "cell_type": "code",
      "source": [
        "high_rating_count = df[df['Rating'] >= 4.0].shape[0]\n",
        "print(\"Number of apps with rating >= 4.0:\", high_rating_count)"
      ],
      "metadata": {
        "trusted": true,
        "execution": {
          "iopub.status.busy": "2025-09-13T18:48:12.386802Z",
          "iopub.execute_input": "2025-09-13T18:48:12.387171Z",
          "iopub.status.idle": "2025-09-13T18:48:12.40267Z",
          "shell.execute_reply.started": "2025-09-13T18:48:12.387136Z",
          "shell.execute_reply": "2025-09-13T18:48:12.401503Z"
        },
        "id": "dZjAFRFrbxWE",
        "outputId": "2d68ed29-742d-48a7-c64c-adf1f0d454b0",
        "colab": {
          "base_uri": "https://localhost:8080/"
        }
      },
      "outputs": [
        {
          "output_type": "stream",
          "name": "stdout",
          "text": [
            "Number of apps with rating >= 4.0: 7748\n"
          ]
        }
      ],
      "execution_count": 53
    },
    {
      "cell_type": "markdown",
      "source": [
        "8. What is the average number of reviews for free vs paid apps?"
      ],
      "metadata": {
        "id": "IMad0VQBbxWE"
      }
    },
    {
      "cell_type": "code",
      "source": [
        "avg_reviews = df.groupby('Type')['Reviews'].mean()\n",
        "print(round(avg_reviews))"
      ],
      "metadata": {
        "trusted": true,
        "execution": {
          "iopub.status.busy": "2025-09-13T18:48:12.403394Z",
          "iopub.execute_input": "2025-09-13T18:48:12.403716Z",
          "iopub.status.idle": "2025-09-13T18:48:12.424537Z",
          "shell.execute_reply.started": "2025-09-13T18:48:12.403691Z",
          "shell.execute_reply": "2025-09-13T18:48:12.423549Z"
        },
        "id": "MinXrZx2bxWE",
        "outputId": "5b844cec-bdef-4ebb-ba21-62c25591f418",
        "colab": {
          "base_uri": "https://localhost:8080/"
        }
      },
      "outputs": [
        {
          "output_type": "stream",
          "name": "stdout",
          "text": [
            "Type\n",
            "Free    234270.0\n",
            "Paid      8725.0\n",
            "Name: Reviews, dtype: float64\n"
          ]
        }
      ],
      "execution_count": 54
    },
    {
      "cell_type": "markdown",
      "source": [
        "9. What is the average app size for each category?"
      ],
      "metadata": {
        "id": "GeC0IrDDbxWF"
      }
    },
    {
      "cell_type": "code",
      "source": [
        "avg_size_per_category = df.groupby('Category')['Size (in MB)'].mean().sort_values(ascending=False)\n",
        "print(round(avg_size_per_category,1))"
      ],
      "metadata": {
        "trusted": true,
        "execution": {
          "iopub.status.busy": "2025-09-13T18:48:12.425405Z",
          "iopub.execute_input": "2025-09-13T18:48:12.425704Z",
          "iopub.status.idle": "2025-09-13T18:48:12.443649Z",
          "shell.execute_reply.started": "2025-09-13T18:48:12.425685Z",
          "shell.execute_reply": "2025-09-13T18:48:12.442783Z"
        },
        "id": "VUbQ2_lAbxWF",
        "outputId": "960cb2d8-873e-4dd0-a6d6-09b879930e02",
        "colab": {
          "base_uri": "https://localhost:8080/"
        }
      },
      "outputs": [
        {
          "output_type": "stream",
          "name": "stdout",
          "text": [
            "Category\n",
            "GAME                   41.9\n",
            "FAMILY                 27.2\n",
            "TRAVEL_AND_LOCAL       24.2\n",
            "SPORTS                 24.1\n",
            "ENTERTAINMENT          23.0\n",
            "PARENTING              22.5\n",
            "HEALTH_AND_FITNESS     20.7\n",
            "FOOD_AND_DRINK         20.5\n",
            "AUTO_AND_VEHICLES      20.0\n",
            "MEDICAL                19.2\n",
            "EDUCATION              19.1\n",
            "FINANCE                17.4\n",
            "MAPS_AND_NAVIGATION    16.4\n",
            "SOCIAL                 16.0\n",
            "HOUSE_AND_HOME         16.0\n",
            "VIDEO_PLAYERS          15.8\n",
            "PHOTOGRAPHY            15.7\n",
            "DATING                 15.7\n",
            "SHOPPING               15.5\n",
            "LIFESTYLE              14.8\n",
            "EVENTS                 14.0\n",
            "BUSINESS               13.9\n",
            "BEAUTY                 13.8\n",
            "COMICS                 13.8\n",
            "BOOKS_AND_REFERENCE    13.1\n",
            "WEATHER                12.7\n",
            "NEWS_AND_MAGAZINES     12.5\n",
            "ART_AND_DESIGN         12.4\n",
            "PRODUCTIVITY           12.3\n",
            "COMMUNICATION          11.3\n",
            "PERSONALIZATION        11.2\n",
            "LIBRARIES_AND_DEMO     10.6\n",
            "TOOLS                   8.8\n",
            "Name: Size (in MB), dtype: float64\n"
          ]
        }
      ],
      "execution_count": 55
    },
    {
      "cell_type": "markdown",
      "source": [
        "10. How many apps were last updated in 2018?"
      ],
      "metadata": {
        "id": "xtGU23DJbxWF"
      }
    },
    {
      "cell_type": "code",
      "source": [
        "apps_updated_2018 = df[df['Last Updated'].dt.year == 2018].shape[0]\n",
        "print(\"Number of apps updated in 2018:\", apps_updated_2018)"
      ],
      "metadata": {
        "trusted": true,
        "execution": {
          "iopub.status.busy": "2025-09-13T18:48:12.444723Z",
          "iopub.execute_input": "2025-09-13T18:48:12.445007Z",
          "iopub.status.idle": "2025-09-13T18:48:12.462475Z",
          "shell.execute_reply.started": "2025-09-13T18:48:12.444976Z",
          "shell.execute_reply": "2025-09-13T18:48:12.461534Z"
        },
        "id": "HV9vcwnLbxWF",
        "outputId": "151ee5a0-517d-4dce-d247-2f1805c067a5",
        "colab": {
          "base_uri": "https://localhost:8080/"
        }
      },
      "outputs": [
        {
          "output_type": "stream",
          "name": "stdout",
          "text": [
            "Number of apps updated in 2018: 6283\n"
          ]
        }
      ],
      "execution_count": 56
    },
    {
      "cell_type": "markdown",
      "source": [
        "**Medium-Level Questions:**\n",
        "\n",
        "1. What is the correlation between the number of installs and the app rating?"
      ],
      "metadata": {
        "id": "yHlvNNiQbxWF"
      }
    },
    {
      "cell_type": "code",
      "source": [
        "correlation = df['Installs'].corr(df['Rating'])\n",
        "print(\"Correlation between Installs and Rating:\", round(correlation, 3))"
      ],
      "metadata": {
        "trusted": true,
        "execution": {
          "iopub.status.busy": "2025-09-13T18:48:12.463361Z",
          "iopub.execute_input": "2025-09-13T18:48:12.46381Z",
          "iopub.status.idle": "2025-09-13T18:48:12.481874Z",
          "shell.execute_reply.started": "2025-09-13T18:48:12.463786Z",
          "shell.execute_reply": "2025-09-13T18:48:12.480999Z"
        },
        "id": "g8lWjoy_bxWG",
        "outputId": "f917c537-946a-45fa-f9ef-f906784185d2",
        "colab": {
          "base_uri": "https://localhost:8080/"
        }
      },
      "outputs": [
        {
          "output_type": "stream",
          "name": "stdout",
          "text": [
            "Correlation between Installs and Rating: 0.04\n"
          ]
        }
      ],
      "execution_count": 57
    },
    {
      "cell_type": "markdown",
      "source": [
        "2. Which app categories have the highest average rating?"
      ],
      "metadata": {
        "id": "Zu8Vd0oVbxWG"
      }
    },
    {
      "cell_type": "code",
      "source": [
        "category_ratings = df.groupby('Category')['Rating'].mean().sort_values(ascending=False)\n",
        "print(round(category_ratings,2).head(10))"
      ],
      "metadata": {
        "trusted": true,
        "execution": {
          "iopub.status.busy": "2025-09-13T18:48:12.482932Z",
          "iopub.execute_input": "2025-09-13T18:48:12.483252Z",
          "iopub.status.idle": "2025-09-13T18:48:12.500832Z",
          "shell.execute_reply.started": "2025-09-13T18:48:12.483229Z",
          "shell.execute_reply": "2025-09-13T18:48:12.500125Z"
        },
        "id": "BID8344jbxWG",
        "outputId": "93cc1678-274b-4624-a728-9b914a6a0c0e",
        "colab": {
          "base_uri": "https://localhost:8080/"
        }
      },
      "outputs": [
        {
          "output_type": "stream",
          "name": "stdout",
          "text": [
            "Category\n",
            "EDUCATION              4.36\n",
            "EVENTS                 4.36\n",
            "ART_AND_DESIGN         4.35\n",
            "BOOKS_AND_REFERENCE    4.30\n",
            "PERSONALIZATION        4.30\n",
            "PARENTING              4.28\n",
            "BEAUTY                 4.26\n",
            "GAME                   4.24\n",
            "WEATHER                4.24\n",
            "SOCIAL                 4.24\n",
            "Name: Rating, dtype: float64\n"
          ]
        }
      ],
      "execution_count": 58
    },
    {
      "cell_type": "markdown",
      "source": [
        "3. How does the price of an app affect its average rating?"
      ],
      "metadata": {
        "id": "U63zeukYbxWG"
      }
    },
    {
      "cell_type": "code",
      "source": [
        "paid_apps = df[df['Price (in $)'] > 0]\n",
        "price_ratings = paid_apps.groupby('Price (in $)')['Rating'].mean().sort_values(ascending=False)\n",
        "print(round(price_ratings,3))"
      ],
      "metadata": {
        "trusted": true,
        "execution": {
          "iopub.status.busy": "2025-09-13T18:48:12.501683Z",
          "iopub.execute_input": "2025-09-13T18:48:12.501922Z",
          "iopub.status.idle": "2025-09-13T18:48:12.52494Z",
          "shell.execute_reply.started": "2025-09-13T18:48:12.501904Z",
          "shell.execute_reply": "2025-09-13T18:48:12.523631Z"
        },
        "id": "49VzBcvJbxWG",
        "outputId": "f3a1b44a-a716-40fc-f2cb-f4c79e6a39ea",
        "colab": {
          "base_uri": "https://localhost:8080/"
        }
      },
      "outputs": [
        {
          "output_type": "stream",
          "name": "stdout",
          "text": [
            "Price (in $)\n",
            "1.75      5.0\n",
            "3.04      5.0\n",
            "2.50      4.8\n",
            "2.59      4.7\n",
            "19.40     4.7\n",
            "         ... \n",
            "2.56      3.4\n",
            "15.46     3.4\n",
            "4.60      3.4\n",
            "379.99    2.9\n",
            "4.59      2.0\n",
            "Name: Rating, Length: 91, dtype: float64\n"
          ]
        }
      ],
      "execution_count": 59
    },
    {
      "cell_type": "code",
      "source": [
        "plt.figure(figsize=(10,6))\n",
        "sns.scatterplot(x='Price (in $)', y='Rating', data=paid_apps, alpha=0.6)\n",
        "plt.title('Price vs Rating for Paid Apps')\n",
        "plt.xlabel('Price (USD)')\n",
        "plt.ylabel('Average Rating')\n",
        "plt.xscale('log')\n",
        "plt.show()"
      ],
      "metadata": {
        "trusted": true,
        "execution": {
          "iopub.status.busy": "2025-09-13T18:48:12.526175Z",
          "iopub.execute_input": "2025-09-13T18:48:12.526551Z",
          "iopub.status.idle": "2025-09-13T18:48:12.972052Z",
          "shell.execute_reply.started": "2025-09-13T18:48:12.526522Z",
          "shell.execute_reply": "2025-09-13T18:48:12.970824Z"
        },
        "id": "7yJQ6UjnbxWH",
        "outputId": "ab96c3ba-f74d-4824-eb71-3b00dd883365",
        "colab": {
          "base_uri": "https://localhost:8080/",
          "height": 551
        }
      },
      "outputs": [
        {
          "output_type": "display_data",
          "data": {
            "text/plain": [
              "<Figure size 1000x600 with 1 Axes>"
            ],
            "image/png": "[encoded data removed]"
          },
          "metadata": {}
        }
      ],
      "execution_count": 60
    },
    {
      "cell_type": "markdown",
      "source": [
        "4. What is the distribution of app ratings across different content ratings?"
      ],
      "metadata": {
        "id": "yQpvPc16bxWH"
      }
    },
    {
      "cell_type": "code",
      "source": [
        "plt.figure(figsize=(10,6))\n",
        "sns.boxplot(x='Content Rating', y='Rating', data=df, palette='Set2')\n",
        "plt.title('Distribution of App Ratings by Content Rating')\n",
        "plt.xlabel('Content Rating')\n",
        "plt.ylabel('Rating')\n",
        "plt.xticks(rotation=45)\n",
        "plt.show()"
      ],
      "metadata": {
        "trusted": true,
        "execution": {
          "iopub.status.busy": "2025-09-13T18:48:12.973313Z",
          "iopub.execute_input": "2025-09-13T18:48:12.973654Z",
          "iopub.status.idle": "2025-09-13T18:48:13.21829Z",
          "shell.execute_reply.started": "2025-09-13T18:48:12.973627Z",
          "shell.execute_reply": "2025-09-13T18:48:13.217304Z"
        },
        "id": "rxZUrrw8bxWI",
        "outputId": "be987f67-3a82-45b0-8945-45b19e8f9366",
        "colab": {
          "base_uri": "https://localhost:8080/",
          "height": 724
        }
      },
      "outputs": [
        {
          "output_type": "stream",
          "name": "stderr",
          "text": [
            "/tmp/ipython-input-3783473624.py:2: FutureWarning: \n",
            "\n",
            "Passing `palette` without assigning `hue` is deprecated and will be removed in v0.14.0. Assign the `x` variable to `hue` and set `legend=False` for the same effect.\n",
            "\n",
            "  sns.boxplot(x='Content Rating', y='Rating', data=df, palette='Set2')\n"
          ]
        },
        {
          "output_type": "display_data",
          "data": {
            "text/plain": [
              "<Figure size 1000x600 with 1 Axes>"
            ],
            "image/png": "[encoded data removed]"
          },
          "metadata": {}
        }
      ],
      "execution_count": 61
    },
    {
      "cell_type": "markdown",
      "source": [
        "5. Which genres have the most apps with over 1 million installs?"
      ],
      "metadata": {
        "id": "10zpzRdFbxWI"
      }
    },
    {
      "cell_type": "code",
      "source": [
        "high_install_apps = df[df['Installs'] > 1_000_000]\n",
        "genre_counts = high_install_apps['Genres'].value_counts()\n",
        "print(genre_counts)"
      ],
      "metadata": {
        "trusted": true,
        "execution": {
          "iopub.status.busy": "2025-09-13T18:48:13.219286Z",
          "iopub.execute_input": "2025-09-13T18:48:13.21961Z",
          "iopub.status.idle": "2025-09-13T18:48:13.22963Z",
          "shell.execute_reply.started": "2025-09-13T18:48:13.219586Z",
          "shell.execute_reply": "2025-09-13T18:48:13.22833Z"
        },
        "id": "KBzM8Mz9bxWJ",
        "outputId": "925a3d72-bf25-43f0-bbfd-eb9ea16bc40b",
        "colab": {
          "base_uri": "https://localhost:8080/"
        }
      },
      "outputs": [
        {
          "output_type": "stream",
          "name": "stdout",
          "text": [
            "Genres\n",
            "Tools                               172\n",
            "Action                              128\n",
            "Photography                         123\n",
            "Communication                        99\n",
            "Productivity                         91\n",
            "                                   ... \n",
            "Parenting                             1\n",
            "Card;Action & Adventure               1\n",
            "Entertainment;Action & Adventure      1\n",
            "Sports;Action & Adventure             1\n",
            "Role Playing;Brain Games              1\n",
            "Name: count, Length: 88, dtype: int64\n"
          ]
        }
      ],
      "execution_count": 62
    },
    {
      "cell_type": "markdown",
      "source": [
        "6. How frequently do apps get updated? Calculate the average time between updates."
      ],
      "metadata": {
        "id": "rS0MPoc6bxWJ"
      }
    },
    {
      "cell_type": "code",
      "source": [
        "min_date = df['Last Updated'].min()\n",
        "max_date = df['Last Updated'].max()\n",
        "overall_update_range = max_date - min_date\n",
        "print(\"Overall dataset update range:\", overall_update_range)"
      ],
      "metadata": {
        "trusted": true,
        "execution": {
          "iopub.status.busy": "2025-09-13T18:48:13.230658Z",
          "iopub.execute_input": "2025-09-13T18:48:13.230994Z",
          "iopub.status.idle": "2025-09-13T18:48:13.248763Z",
          "shell.execute_reply.started": "2025-09-13T18:48:13.230964Z",
          "shell.execute_reply": "2025-09-13T18:48:13.24783Z"
        },
        "id": "-lIvhg28bxWJ",
        "outputId": "d80fd0c1-0f0b-48c6-ef35-90c04fea7de5",
        "colab": {
          "base_uri": "https://localhost:8080/"
        }
      },
      "outputs": [
        {
          "output_type": "stream",
          "name": "stdout",
          "text": [
            "Overall dataset update range: 3001 days 00:00:00\n"
          ]
        }
      ],
      "execution_count": 63
    },
    {
      "cell_type": "code",
      "source": [
        "updates_per_year = df['Last Updated'].dt.year.value_counts().sort_index()\n",
        "print(updates_per_year)"
      ],
      "metadata": {
        "trusted": true,
        "execution": {
          "iopub.status.busy": "2025-09-13T18:48:13.253156Z",
          "iopub.execute_input": "2025-09-13T18:48:13.253452Z",
          "iopub.status.idle": "2025-09-13T18:48:13.273301Z",
          "shell.execute_reply.started": "2025-09-13T18:48:13.253419Z",
          "shell.execute_reply": "2025-09-13T18:48:13.272273Z"
        },
        "id": "8aqB6j43bxWK",
        "outputId": "4b65b80f-ebdb-4ad3-a07d-b55da5ce2055",
        "colab": {
          "base_uri": "https://localhost:8080/"
        }
      },
      "outputs": [
        {
          "output_type": "stream",
          "name": "stdout",
          "text": [
            "Last Updated\n",
            "2010       1\n",
            "2011      15\n",
            "2012      26\n",
            "2013     108\n",
            "2014     203\n",
            "2015     449\n",
            "2016     779\n",
            "2017    1794\n",
            "2018    6283\n",
            "Name: count, dtype: int64\n"
          ]
        }
      ],
      "execution_count": 64
    },
    {
      "cell_type": "code",
      "source": [
        "avg_days_since_update = (pd.Timestamp.now() - df['Last Updated']).mean()\n",
        "print(\"Average days since last update:\", avg_days_since_update)"
      ],
      "metadata": {
        "trusted": true,
        "execution": {
          "iopub.status.busy": "2025-09-13T18:48:13.274338Z",
          "iopub.execute_input": "2025-09-13T18:48:13.274672Z",
          "iopub.status.idle": "2025-09-13T18:48:13.289544Z",
          "shell.execute_reply.started": "2025-09-13T18:48:13.27464Z",
          "shell.execute_reply": "2025-09-13T18:48:13.28845Z"
        },
        "id": "kHkZo-ztbxWK",
        "outputId": "b449125d-491d-4558-939f-6c18986401fb",
        "colab": {
          "base_uri": "https://localhost:8080/"
        }
      },
      "outputs": [
        {
          "output_type": "stream",
          "name": "stdout",
          "text": [
            "Average days since last update: 2877 days 23:22:55.114363584\n"
          ]
        }
      ],
      "execution_count": 65
    },
    {
      "cell_type": "markdown",
      "source": [
        "7. What is the impact of app size on the number of installs?"
      ],
      "metadata": {
        "id": "P_jwH3B2bxWK"
      }
    },
    {
      "cell_type": "code",
      "source": [
        "corr_size_installs = df['Size (in MB)'].corr(df['Installs'])\n",
        "print(\"Correlation between App Size and Installs:\", round(corr_size_installs, 3))"
      ],
      "metadata": {
        "trusted": true,
        "execution": {
          "iopub.status.busy": "2025-09-13T18:48:13.290704Z",
          "iopub.execute_input": "2025-09-13T18:48:13.29097Z",
          "iopub.status.idle": "2025-09-13T18:48:13.31088Z",
          "shell.execute_reply.started": "2025-09-13T18:48:13.290951Z",
          "shell.execute_reply": "2025-09-13T18:48:13.30971Z"
        },
        "id": "DAUHnVSpbxWL",
        "outputId": "2a52f74c-6fb2-4033-fb01-64ae31f82ab9",
        "colab": {
          "base_uri": "https://localhost:8080/"
        }
      },
      "outputs": [
        {
          "output_type": "stream",
          "name": "stdout",
          "text": [
            "Correlation between App Size and Installs: 0.134\n"
          ]
        }
      ],
      "execution_count": 66
    },
    {
      "cell_type": "code",
      "source": [
        "plt.figure(figsize=(10,6))\n",
        "sns.scatterplot(x='Size (in MB)', y='Installs', data=df, alpha=0.5)\n",
        "plt.title('Impact of App Size on Installs')\n",
        "plt.xlabel('App Size (MB)')\n",
        "plt.ylabel('Number of Installs')\n",
        "plt.yscale('log')\n",
        "plt.show()"
      ],
      "metadata": {
        "trusted": true,
        "execution": {
          "iopub.status.busy": "2025-09-13T18:48:13.312015Z",
          "iopub.execute_input": "2025-09-13T18:48:13.312387Z",
          "iopub.status.idle": "2025-09-13T18:48:13.618094Z",
          "shell.execute_reply.started": "2025-09-13T18:48:13.312355Z",
          "shell.execute_reply": "2025-09-13T18:48:13.617177Z"
        },
        "id": "M_aYTdn-bxWL",
        "outputId": "9bda17de-92a3-4f7c-c9ba-94e413a1a70d",
        "colab": {
          "base_uri": "https://localhost:8080/",
          "height": 544
        }
      },
      "outputs": [
        {
          "output_type": "display_data",
          "data": {
            "text/plain": [
              "<Figure size 1000x600 with 1 Axes>"
            ],
            "image/png": "[encoded data removed]"
          },
          "metadata": {}
        }
      ],
      "execution_count": 67
    },
    {
      "cell_type": "markdown",
      "source": [
        "Q8: Which apps have the highest number of reviews, and what are their ratings?"
      ],
      "metadata": {
        "id": "Cnvp_e9pbxWL"
      }
    },
    {
      "cell_type": "code",
      "source": [
        "top_reviews = df.sort_values(by='Reviews', ascending=False).head(10)\n",
        "\n",
        "print(top_reviews[['App', 'Reviews', 'Rating']])"
      ],
      "metadata": {
        "trusted": true,
        "execution": {
          "iopub.status.busy": "2025-09-13T18:48:13.619024Z",
          "iopub.execute_input": "2025-09-13T18:48:13.619426Z",
          "iopub.status.idle": "2025-09-13T18:48:13.631533Z",
          "shell.execute_reply.started": "2025-09-13T18:48:13.619387Z",
          "shell.execute_reply": "2025-09-13T18:48:13.630637Z"
        },
        "id": "TPjqs_Z9bxWM",
        "outputId": "83104095-93da-4003-e822-74fe03516ede",
        "colab": {
          "base_uri": "https://localhost:8080/"
        }
      },
      "outputs": [
        {
          "output_type": "stream",
          "name": "stdout",
          "text": [
            "                                                    App   Reviews  Rating\n",
            "2544                                           Facebook  78158306     4.1\n",
            "336                                  WhatsApp Messenger  69119316     4.4\n",
            "2545                                          Instagram  66577313     4.5\n",
            "335            Messenger – Text and Video Chat for Free  56642847     4.0\n",
            "1670                                     Clash of Clans  44891723     4.6\n",
            "4005            Clean Master- Space Cleaner & Antivirus  42916526     4.7\n",
            "1654                                     Subway Surfers  27722264     4.5\n",
            "3665                                            YouTube  25655305     4.3\n",
            "7536  Security Master - Antivirus, VPN, AppLock, Boo...  24900999     4.7\n",
            "1660                                       Clash Royale  23133508     4.6\n"
          ]
        }
      ],
      "execution_count": 68
    },
    {
      "cell_type": "markdown",
      "source": [
        "9. How does the content rating distribution differ between free and paid apps?"
      ],
      "metadata": {
        "id": "0q-Sf5Z3bxWM"
      }
    },
    {
      "cell_type": "code",
      "source": [
        "crosstab = pd.crosstab(df['Content Rating'], df['Type'])\n",
        "print(crosstab)\n",
        "crosstab_percent = pd.crosstab(df['Content Rating'], df['Type'], normalize='index') * 100\n",
        "print(crosstab_percent)"
      ],
      "metadata": {
        "trusted": true,
        "execution": {
          "iopub.status.busy": "2025-09-13T18:48:13.632412Z",
          "iopub.execute_input": "2025-09-13T18:48:13.6327Z",
          "iopub.status.idle": "2025-09-13T18:48:13.677217Z",
          "shell.execute_reply.started": "2025-09-13T18:48:13.632668Z",
          "shell.execute_reply": "2025-09-13T18:48:13.676378Z"
        },
        "id": "I-_i4nAdbxWM",
        "outputId": "91aa70c7-65e9-4fc6-cce5-b82cff1f5d2c",
        "colab": {
          "base_uri": "https://localhost:8080/"
        }
      },
      "outputs": [
        {
          "output_type": "stream",
          "name": "stdout",
          "text": [
            "Type             Free  Paid\n",
            "Content Rating             \n",
            "Adults only 18+     3     0\n",
            "Everyone         7248   655\n",
            "Everyone 10+      290    31\n",
            "Mature 17+        375    18\n",
            "Teen              984    52\n",
            "Unrated             2     0\n",
            "Type                   Free      Paid\n",
            "Content Rating                       \n",
            "Adults only 18+  100.000000  0.000000\n",
            "Everyone          91.712008  8.287992\n",
            "Everyone 10+      90.342679  9.657321\n",
            "Mature 17+        95.419847  4.580153\n",
            "Teen              94.980695  5.019305\n",
            "Unrated          100.000000  0.000000\n"
          ]
        }
      ],
      "execution_count": 69
    },
    {
      "cell_type": "markdown",
      "source": [
        "10. What are the top 5 categories with the most installs?"
      ],
      "metadata": {
        "id": "IR8S-7AKbxWM"
      }
    },
    {
      "cell_type": "code",
      "source": [
        "category_installs = df.groupby(\"Category\")[\"Installs\"].sum().sort_values(ascending=False)\n",
        "top5_categories = category_installs.head(5)\n",
        "print(\"Top 5 Categories with Most Installs:\")\n",
        "print(top5_categories)"
      ],
      "metadata": {
        "trusted": true,
        "execution": {
          "iopub.status.busy": "2025-09-13T18:48:13.677986Z",
          "iopub.execute_input": "2025-09-13T18:48:13.678255Z",
          "iopub.status.idle": "2025-09-13T18:48:13.686915Z",
          "shell.execute_reply.started": "2025-09-13T18:48:13.678236Z",
          "shell.execute_reply": "2025-09-13T18:48:13.685916Z"
        },
        "id": "jFmqfKhnbxWN",
        "outputId": "8d5186c6-28a5-4f9b-ca71-a99381745d86",
        "colab": {
          "base_uri": "https://localhost:8080/"
        }
      },
      "outputs": [
        {
          "output_type": "stream",
          "name": "stdout",
          "text": [
            "Top 5 Categories with Most Installs:\n",
            "Category\n",
            "GAME             13878924415\n",
            "COMMUNICATION    11038276251\n",
            "TOOLS             8001771915\n",
            "PRODUCTIVITY      5793091369\n",
            "SOCIAL            5487867902\n",
            "Name: Installs, dtype: Int64\n"
          ]
        }
      ],
      "execution_count": 70
    },
    {
      "cell_type": "markdown",
      "source": [
        "**Advanced-Level Questions:**\n",
        "1. What are the top 10 apps with the highest ratings, and how do their number of reviews and installs compare?"
      ],
      "metadata": {
        "id": "W8md2O0sbxWN"
      }
    },
    {
      "cell_type": "code",
      "source": [
        "top10_apps = df.sort_values(by=[\"Rating\", \"Reviews\"], ascending=[False, False]).head(10)\n",
        "top10_apps = top10_apps[[\"App\", \"Rating\", \"Reviews\", \"Installs\"]]\n",
        "\n",
        "print(\"Top 10 Apps with Highest Ratings:\")\n",
        "print(top10_apps)"
      ],
      "metadata": {
        "trusted": true,
        "execution": {
          "iopub.status.busy": "2025-09-13T18:48:13.687925Z",
          "iopub.execute_input": "2025-09-13T18:48:13.688227Z",
          "iopub.status.idle": "2025-09-13T18:48:13.712002Z",
          "shell.execute_reply.started": "2025-09-13T18:48:13.688205Z",
          "shell.execute_reply": "2025-09-13T18:48:13.71125Z"
        },
        "id": "M2_ahOi9bxWN",
        "outputId": "5142083d-4c11-4b85-9a6d-6fa5301a279d",
        "colab": {
          "base_uri": "https://localhost:8080/"
        }
      },
      "outputs": [
        {
          "output_type": "stream",
          "name": "stdout",
          "text": [
            "Top 10 Apps with Highest Ratings:\n",
            "                                                     App  Rating  Reviews  \\\n",
            "10357                                         Ríos de Fe     5.0      141   \n",
            "10301  FD Calculator (EMI, SIP, RD & Loan Eligilibility)     5.0      104   \n",
            "8058                                          Oración CX     5.0      103   \n",
            "6823                      Barisal University App-BU Face     5.0      100   \n",
            "9496                                          Master E.K     5.0       90   \n",
            "7506                                             CL REPL     5.0       47   \n",
            "5230                                              AJ Cam     5.0       44   \n",
            "5196    AI Today : Artificial Intelligence News & AI 101     5.0       43   \n",
            "7842                         CS & IT Interview Questions     5.0       43   \n",
            "9517                                             Ek Vote     5.0       43   \n",
            "\n",
            "       Installs  \n",
            "10357      1000  \n",
            "10301      1000  \n",
            "8058       5000  \n",
            "6823       1000  \n",
            "9496       1000  \n",
            "7506       1000  \n",
            "5230        100  \n",
            "5196        100  \n",
            "7842       1000  \n",
            "9517        500  \n"
          ]
        }
      ],
      "execution_count": 71
    },
    {
      "cell_type": "code",
      "source": [
        "import matplotlib.pyplot as plt\n",
        "\n",
        "plt.figure(figsize=(12,6))\n",
        "plt.barh(top10_apps[\"App\"], top10_apps[\"Reviews\"], color=\"Purple\", label=\"Reviews\")\n",
        "plt.barh(top10_apps[\"App\"], top10_apps[\"Installs\"]/1000, color=\"lightgreen\", alpha=0.6, label=\"Installs (in thousands)\")\n",
        "\n",
        "plt.xlabel(\"Count\")\n",
        "plt.title(\"Top 10 Highest Rated Apps: Reviews vs Installs\")\n",
        "plt.legend()\n",
        "plt.gca().invert_yaxis()\n",
        "plt.show()\n"
      ],
      "metadata": {
        "trusted": true,
        "execution": {
          "iopub.status.busy": "2025-09-13T18:48:13.712909Z",
          "iopub.execute_input": "2025-09-13T18:48:13.713238Z",
          "iopub.status.idle": "2025-09-13T18:48:13.982869Z",
          "shell.execute_reply.started": "2025-09-13T18:48:13.713212Z",
          "shell.execute_reply": "2025-09-13T18:48:13.982047Z"
        },
        "id": "ii3qEWuCbxWN",
        "outputId": "dcb7997c-1c06-4771-90b1-16399f4a4791",
        "colab": {
          "base_uri": "https://localhost:8080/",
          "height": 366
        }
      },
      "outputs": [
        {
          "output_type": "display_data",
          "data": {
            "text/plain": [
              "<Figure size 1200x600 with 1 Axes>"
            ],
            "image/png": "[encoded data removed]"
          },
          "metadata": {}
        }
      ],
      "execution_count": 72
    },
    {
      "cell_type": "markdown",
      "source": [
        "2. Analyze the trend of app updates over time. Are there any noticeable patterns or seasonal trends?"
      ],
      "metadata": {
        "id": "1r0zMlpGbxWN"
      }
    },
    {
      "cell_type": "code",
      "source": [
        "df[\"Update_Month\"] = df[\"Last Updated\"].dt.to_period(\"M\")\n",
        "updates_trend = df.groupby(\"Update_Month\").size().reset_index(name=\"Update_Count\")\n",
        "print(updates_trend.head())"
      ],
      "metadata": {
        "trusted": true,
        "execution": {
          "iopub.status.busy": "2025-09-13T18:48:13.983707Z",
          "iopub.execute_input": "2025-09-13T18:48:13.98394Z",
          "iopub.status.idle": "2025-09-13T18:48:13.999527Z",
          "shell.execute_reply.started": "2025-09-13T18:48:13.983922Z",
          "shell.execute_reply": "2025-09-13T18:48:13.998595Z"
        },
        "id": "TjR6BvxVbxWO",
        "outputId": "b3199953-327b-4df2-deb7-87d84bafc4c8",
        "colab": {
          "base_uri": "https://localhost:8080/"
        }
      },
      "outputs": [
        {
          "output_type": "stream",
          "name": "stdout",
          "text": [
            "  Update_Month  Update_Count\n",
            "0      2010-05             1\n",
            "1      2011-01             1\n",
            "2      2011-03             1\n",
            "3      2011-04             3\n",
            "4      2011-05             1\n"
          ]
        }
      ],
      "execution_count": 73
    },
    {
      "cell_type": "code",
      "source": [
        "df = df.dropna(subset=[\"Last Updated\"])"
      ],
      "metadata": {
        "trusted": true,
        "execution": {
          "iopub.status.busy": "2025-09-13T18:48:14.00048Z",
          "iopub.execute_input": "2025-09-13T18:48:14.000937Z",
          "iopub.status.idle": "2025-09-13T18:48:14.014169Z",
          "shell.execute_reply.started": "2025-09-13T18:48:14.00091Z",
          "shell.execute_reply": "2025-09-13T18:48:14.012845Z"
        },
        "id": "8WxBcfYbbxWO"
      },
      "outputs": [],
      "execution_count": 74
    },
    {
      "cell_type": "code",
      "source": [
        "df[\"Update_Year\"] = df[\"Last Updated\"].dt.year\n",
        "yearly_updates = df.groupby(\"Update_Year\").size().reset_index(name=\"Update_Count\")\n",
        "\n",
        "plt.figure(figsize=(10,5))\n",
        "plt.bar(yearly_updates[\"Update_Year\"], yearly_updates[\"Update_Count\"], color=\"skyblue\")\n",
        "plt.title(\"Yearly App Update Trends\", fontsize=16)\n",
        "plt.xlabel(\"Year\")\n",
        "plt.ylabel(\"Number of Updates\")\n",
        "plt.show()\n"
      ],
      "metadata": {
        "trusted": true,
        "execution": {
          "iopub.status.busy": "2025-09-13T18:48:14.015262Z",
          "iopub.execute_input": "2025-09-13T18:48:14.015523Z",
          "iopub.status.idle": "2025-09-13T18:48:14.213051Z",
          "shell.execute_reply.started": "2025-09-13T18:48:14.015503Z",
          "shell.execute_reply": "2025-09-13T18:48:14.212135Z"
        },
        "id": "iyrEsgvSbxWO",
        "outputId": "c44b045b-3027-406a-d4f2-7fb85d434196",
        "colab": {
          "base_uri": "https://localhost:8080/",
          "height": 467
        }
      },
      "outputs": [
        {
          "output_type": "display_data",
          "data": {
            "text/plain": [
              "<Figure size 1000x500 with 1 Axes>"
            ],
            "image/png": "[encoded data removed]"
          },
          "metadata": {}
        }
      ],
      "execution_count": 75
    },
    {
      "cell_type": "code",
      "source": [
        "df[\"Month\"] = df[\"Last Updated\"].dt.month_name()\n",
        "\n",
        "seasonal_trend = df.groupby(\"Month\").size().reindex(\n",
        "    [\"January\",\"February\",\"March\",\"April\",\"May\",\"June\",\n",
        "     \"July\",\"August\",\"September\",\"October\",\"November\",\"December\"]\n",
        ").reset_index(name=\"Update_Count\")\n",
        "\n",
        "plt.figure(figsize=(12,6))\n",
        "sns.barplot(x=\"Month\", y=\"Update_Count\", data=seasonal_trend, palette=\"viridis\")\n",
        "\n",
        "plt.xticks(rotation=45)\n",
        "plt.title(\"Seasonal Pattern of App Updates\")\n",
        "plt.xlabel(\"Month\")\n",
        "plt.ylabel(\"Number of Updates\")\n",
        "plt.show()\n"
      ],
      "metadata": {
        "trusted": true,
        "execution": {
          "iopub.status.busy": "2025-09-13T18:48:14.214132Z",
          "iopub.execute_input": "2025-09-13T18:48:14.214474Z",
          "iopub.status.idle": "2025-09-13T18:48:14.450365Z",
          "shell.execute_reply.started": "2025-09-13T18:48:14.214444Z",
          "shell.execute_reply": "2025-09-13T18:48:14.449341Z"
        },
        "id": "bDv10TEBbxWO",
        "outputId": "2dd5683b-d7c0-4b3f-f26b-743a7073c1db",
        "colab": {
          "base_uri": "https://localhost:8080/",
          "height": 606
        }
      },
      "outputs": [
        {
          "output_type": "stream",
          "name": "stderr",
          "text": [
            "/tmp/ipython-input-1986896984.py:9: FutureWarning: \n",
            "\n",
            "Passing `palette` without assigning `hue` is deprecated and will be removed in v0.14.0. Assign the `x` variable to `hue` and set `legend=False` for the same effect.\n",
            "\n",
            "  sns.barplot(x=\"Month\", y=\"Update_Count\", data=seasonal_trend, palette=\"viridis\")\n"
          ]
        },
        {
          "output_type": "display_data",
          "data": {
            "text/plain": [
              "<Figure size 1200x600 with 1 Axes>"
            ],
            "image/png": "[encoded data removed]"
          },
          "metadata": {}
        }
      ],
      "execution_count": 76
    },
    {
      "cell_type": "markdown",
      "source": [
        "3. How does the average rating of apps change with the number of installs? Create a binned analysis."
      ],
      "metadata": {
        "id": "JKfYj4jMbxWP"
      }
    },
    {
      "cell_type": "code",
      "source": [
        "bins = [0, 1e3, 1e4, 1e5, 1e6, 1e7, 1e8, 1e9]\n",
        "labels = [\"<1K\", \"1K-10K\", \"10K-100K\", \"100K-1M\", \"1M-10M\", \"10M-100M\", \"100M+\"]\n",
        "df[\"Install_Bins\"] = pd.cut(df[\"Installs\"], bins=bins, labels=labels, include_lowest=True)"
      ],
      "metadata": {
        "trusted": true,
        "execution": {
          "iopub.status.busy": "2025-09-13T18:48:14.451374Z",
          "iopub.execute_input": "2025-09-13T18:48:14.451691Z",
          "iopub.status.idle": "2025-09-13T18:48:14.459931Z",
          "shell.execute_reply.started": "2025-09-13T18:48:14.451662Z",
          "shell.execute_reply": "2025-09-13T18:48:14.458861Z"
        },
        "id": "LkcxE3j9bxWP"
      },
      "outputs": [],
      "execution_count": 77
    },
    {
      "cell_type": "code",
      "source": [
        "rating_by_installs = df.groupby(\"Install_Bins\")[\"Rating\"].mean().reset_index()\n",
        "print(rating_by_installs)"
      ],
      "metadata": {
        "trusted": true,
        "execution": {
          "iopub.status.busy": "2025-09-13T18:48:14.46092Z",
          "iopub.execute_input": "2025-09-13T18:48:14.461207Z",
          "iopub.status.idle": "2025-09-13T18:48:14.482119Z",
          "shell.execute_reply.started": "2025-09-13T18:48:14.461176Z",
          "shell.execute_reply": "2025-09-13T18:48:14.481121Z"
        },
        "id": "R2ccIAHBbxWP",
        "outputId": "23ea5cda-1146-42bd-e9a7-1fe1928e437b",
        "colab": {
          "base_uri": "https://localhost:8080/"
        }
      },
      "outputs": [
        {
          "output_type": "stream",
          "name": "stdout",
          "text": [
            "  Install_Bins    Rating\n",
            "0          <1K  4.186564\n",
            "1       1K-10K  4.039646\n",
            "2     10K-100K  4.096933\n",
            "3      100K-1M  4.203759\n",
            "4       1M-10M  4.271049\n",
            "5     10M-100M  4.359231\n",
            "6        100M+  4.302273\n"
          ]
        },
        {
          "output_type": "stream",
          "name": "stderr",
          "text": [
            "/tmp/ipython-input-2853544670.py:1: FutureWarning: The default of observed=False is deprecated and will be changed to True in a future version of pandas. Pass observed=False to retain current behavior or observed=True to adopt the future default and silence this warning.\n",
            "  rating_by_installs = df.groupby(\"Install_Bins\")[\"Rating\"].mean().reset_index()\n"
          ]
        }
      ],
      "execution_count": 78
    },
    {
      "cell_type": "code",
      "source": [
        "import matplotlib.pyplot as plt\n",
        "\n",
        "plt.figure(figsize=(10,6))\n",
        "plt.bar(rating_by_installs[\"Install_Bins\"], rating_by_installs[\"Rating\"], color=\"skyblue\")\n",
        "\n",
        "plt.title(\"Average Rating by Install Range\", fontsize=16)\n",
        "plt.xlabel(\"Install Range\", fontsize=12)\n",
        "plt.ylabel(\"Average Rating\", fontsize=12)\n",
        "plt.xticks(rotation=45)\n",
        "plt.show()"
      ],
      "metadata": {
        "trusted": true,
        "execution": {
          "iopub.status.busy": "2025-09-13T18:48:14.482978Z",
          "iopub.execute_input": "2025-09-13T18:48:14.483313Z",
          "iopub.status.idle": "2025-09-13T18:48:14.664533Z",
          "shell.execute_reply.started": "2025-09-13T18:48:14.48329Z",
          "shell.execute_reply": "2025-09-13T18:48:14.663638Z"
        },
        "id": "xlRXq8TgbxWQ",
        "outputId": "4bc593ad-c89d-4952-d998-e4861747364e",
        "colab": {
          "base_uri": "https://localhost:8080/",
          "height": 605
        }
      },
      "outputs": [
        {
          "output_type": "display_data",
          "data": {
            "text/plain": [
              "<Figure size 1000x600 with 1 Axes>"
            ],
            "image/png": "[encoded data removed]"
          },
          "metadata": {}
        }
      ],
      "execution_count": 79
    },
    {
      "cell_type": "markdown",
      "source": [
        "4. 5. What is the relationship between app genre and user ratings? Are certain genres consistently rated higher or lower?"
      ],
      "metadata": {
        "id": "U21QTd0GbxWQ"
      }
    },
    {
      "cell_type": "code",
      "source": [
        "genre_ratings = df.groupby(\"Genres\")[\"Rating\"].agg([\"mean\", \"median\", \"count\"]).reset_index()\n",
        "genre_ratings = genre_ratings.sort_values(by=\"mean\", ascending=False)\n",
        "\n",
        "genre_ratings.head(10)"
      ],
      "metadata": {
        "trusted": true,
        "execution": {
          "iopub.status.busy": "2025-09-13T18:48:14.665308Z",
          "iopub.execute_input": "2025-09-13T18:48:14.665522Z",
          "iopub.status.idle": "2025-09-13T18:48:14.681259Z",
          "shell.execute_reply.started": "2025-09-13T18:48:14.665507Z",
          "shell.execute_reply": "2025-09-13T18:48:14.680092Z"
        },
        "id": "Q9rsFixJbxWQ",
        "outputId": "5be7dc24-6be4-4c49-a020-00ada1004a22",
        "colab": {
          "base_uri": "https://localhost:8080/",
          "height": 363
        }
      },
      "outputs": [
        {
          "output_type": "execute_result",
          "data": {
            "text/plain": [
              "                          Genres      mean  median  count\n",
              "18            Board;Pretend Play  4.800000     4.8      1\n",
              "34             Comics;Creativity  4.800000     4.8      1\n",
              "63    Health & Fitness;Education  4.700000     4.7      1\n",
              "4          Adventure;Brain Games  4.600000     4.6      1\n",
              "86              Puzzle;Education  4.600000     4.6      1\n",
              "104  Strategy;Action & Adventure  4.600000     4.6      2\n",
              "54      Entertainment;Creativity  4.533333     4.6      3\n",
              "73           Music;Music & Video  4.533333     4.6      3\n",
              "106           Strategy;Education  4.500000     4.5      1\n",
              "89           Racing;Pretend Play  4.500000     4.5      1"
            ],
            "text/html": [
              "\n",
              "  <div id=\"df-201c7876-88d9-4f64-a233-865696710bc5\" class=\"colab-df-container\">\n",
              "    <div>\n",
              "<style scoped>\n",
              "    .dataframe tbody tr th:only-of-type {\n",
              "        vertical-align: middle;\n",
              "    }\n",
              "\n",
              "    .dataframe tbody tr th {\n",
              "        vertical-align: top;\n",
              "    }\n",
              "\n",
              "    .dataframe thead th {\n",
              "        text-align: right;\n",
              "    }\n",
              "</style>\n",
              "<table border=\"1\" class=\"dataframe\">\n",
              "  <thead>\n",
              "    <tr style=\"text-align: right;\">\n",
              "      <th></th>\n",
              "      <th>Genres</th>\n",
              "      <th>mean</th>\n",
              "      <th>median</th>\n",
              "      <th>count</th>\n",
              "    </tr>\n",
              "  </thead>\n",
              "  <tbody>\n",
              "    <tr>\n",
              "      <th>18</th>\n",
              "      <td>Board;Pretend Play</td>\n",
              "      <td>4.800000</td>\n",
              "      <td>4.8</td>\n",
              "      <td>1</td>\n",
              "    </tr>\n",
              "    <tr>\n",
              "      <th>34</th>\n",
              "      <td>Comics;Creativity</td>\n",
              "      <td>4.800000</td>\n",
              "      <td>4.8</td>\n",
              "      <td>1</td>\n",
              "    </tr>\n",
              "    <tr>\n",
              "      <th>63</th>\n",
              "      <td>Health &amp; Fitness;Education</td>\n",
              "      <td>4.700000</td>\n",
              "      <td>4.7</td>\n",
              "      <td>1</td>\n",
              "    </tr>\n",
              "    <tr>\n",
              "      <th>4</th>\n",
              "      <td>Adventure;Brain Games</td>\n",
              "      <td>4.600000</td>\n",
              "      <td>4.6</td>\n",
              "      <td>1</td>\n",
              "    </tr>\n",
              "    <tr>\n",
              "      <th>86</th>\n",
              "      <td>Puzzle;Education</td>\n",
              "      <td>4.600000</td>\n",
              "      <td>4.6</td>\n",
              "      <td>1</td>\n",
              "    </tr>\n",
              "    <tr>\n",
              "      <th>104</th>\n",
              "      <td>Strategy;Action &amp; Adventure</td>\n",
              "      <td>4.600000</td>\n",
              "      <td>4.6</td>\n",
              "      <td>2</td>\n",
              "    </tr>\n",
              "    <tr>\n",
              "      <th>54</th>\n",
              "      <td>Entertainment;Creativity</td>\n",
              "      <td>4.533333</td>\n",
              "      <td>4.6</td>\n",
              "      <td>3</td>\n",
              "    </tr>\n",
              "    <tr>\n",
              "      <th>73</th>\n",
              "      <td>Music;Music &amp; Video</td>\n",
              "      <td>4.533333</td>\n",
              "      <td>4.6</td>\n",
              "      <td>3</td>\n",
              "    </tr>\n",
              "    <tr>\n",
              "      <th>106</th>\n",
              "      <td>Strategy;Education</td>\n",
              "      <td>4.500000</td>\n",
              "      <td>4.5</td>\n",
              "      <td>1</td>\n",
              "    </tr>\n",
              "    <tr>\n",
              "      <th>89</th>\n",
              "      <td>Racing;Pretend Play</td>\n",
              "      <td>4.500000</td>\n",
              "      <td>4.5</td>\n",
              "      <td>1</td>\n",
              "    </tr>\n",
              "  </tbody>\n",
              "</table>\n",
              "</div>\n",
              "    <div class=\"colab-df-buttons\">\n",
              "\n",
              "  <div class=\"colab-df-container\">\n",
              "    <button class=\"colab-df-convert\" onclick=\"convertToInteractive('df-201c7876-88d9-4f64-a233-865696710bc5')\"\n",
              "            title=\"Convert this dataframe to an interactive table.\"\n",
              "            style=\"display:none;\">\n",
              "\n",
              "  <svg xmlns=\"http://www.w3.org/2000/svg\" height=\"24px\" viewBox=\"0 -960 960 960\">\n",
              "    <path d=\"M120-120v-720h720v720H120Zm60-500h600v-160H180v160Zm220 220h160v-160H400v160Zm0 220h160v-160H400v160ZM180-400h160v-160H180v160Zm440 0h160v-160H620v160ZM180-180h160v-160H180v160Zm440 0h160v-160H620v160Z\"/>\n",
              "  </svg>\n",
              "    </button>\n",
              "\n",
              "  <style>\n",
              "    .colab-df-container {\n",
              "      display:flex;\n",
              "      gap: 12px;\n",
              "    }\n",
              "\n",
              "    .colab-df-convert {\n",
              "      background-color: #E8F0FE;\n",
              "      border: none;\n",
              "      border-radius: 50%;\n",
              "      cursor: pointer;\n",
              "      display: none;\n",
              "      fill: #1967D2;\n",
              "      height: 32px;\n",
              "      padding: 0 0 0 0;\n",
              "      width: 32px;\n",
              "    }\n",
              "\n",
              "    .colab-df-convert:hover {\n",
              "      background-color: #E2EBFA;\n",
              "      box-shadow: 0px 1px 2px rgba(60, 64, 67, 0.3), 0px 1px 3px 1px rgba(60, 64, 67, 0.15);\n",
              "      fill: #174EA6;\n",
              "    }\n",
              "\n",
              "    .colab-df-buttons div {\n",
              "      margin-bottom: 4px;\n",
              "    }\n",
              "\n",
              "    [theme=dark] .colab-df-convert {\n",
              "      background-color: #3B4455;\n",
              "      fill: #D2E3FC;\n",
              "    }\n",
              "\n",
              "    [theme=dark] .colab-df-convert:hover {\n",
              "      background-color: #434B5C;\n",
              "      box-shadow: 0px 1px 3px 1px rgba(0, 0, 0, 0.15);\n",
              "      filter: drop-shadow(0px 1px 2px rgba(0, 0, 0, 0.3));\n",
              "      fill: #FFFFFF;\n",
              "    }\n",
              "  </style>\n",
              "\n",
              "    <script>\n",
              "      const buttonEl =\n",
              "        document.querySelector('#df-201c7876-88d9-4f64-a233-865696710bc5 button.colab-df-convert');\n",
              "      buttonEl.style.display =\n",
              "        google.colab.kernel.accessAllowed ? 'block' : 'none';\n",
              "\n",
              "      async function convertToInteractive(key) {\n",
              "        const element = document.querySelector('#df-201c7876-88d9-4f64-a233-865696710bc5');\n",
              "        const dataTable =\n",
              "          await google.colab.kernel.invokeFunction('convertToInteractive',\n",
              "                                                    [key], {});\n",
              "        if (!dataTable) return;\n",
              "\n",
              "        const docLinkHtml = 'Like what you see? Visit the ' +\n",
              "          '<a target=\"_blank\" href=https://colab.research.google.com/notebooks/data_table.ipynb>data table notebook</a>'\n",
              "          + ' to learn more about interactive tables.';\n",
              "        element.innerHTML = '';\n",
              "        dataTable['output_type'] = 'display_data';\n",
              "        await google.colab.output.renderOutput(dataTable, element);\n",
              "        const docLink = document.createElement('div');\n",
              "        docLink.innerHTML = docLinkHtml;\n",
              "        element.appendChild(docLink);\n",
              "      }\n",
              "    </script>\n",
              "  </div>\n",
              "\n",
              "\n",
              "    <div id=\"df-6ad0d2bd-e940-4819-9c7e-f61dc841537b\">\n",
              "      <button class=\"colab-df-quickchart\" onclick=\"quickchart('df-6ad0d2bd-e940-4819-9c7e-f61dc841537b')\"\n",
              "                title=\"Suggest charts\"\n",
              "                style=\"display:none;\">\n",
              "\n",
              "<svg xmlns=\"http://www.w3.org/2000/svg\" height=\"24px\"viewBox=\"0 0 24 24\"\n",
              "     width=\"24px\">\n",
              "    <g>\n",
              "        <path d=\"M19 3H5c-1.1 0-2 .9-2 2v14c0 1.1.9 2 2 2h14c1.1 0 2-.9 2-2V5c0-1.1-.9-2-2-2zM9 17H7v-7h2v7zm4 0h-2V7h2v10zm4 0h-2v-4h2v4z\"/>\n",
              "    </g>\n",
              "</svg>\n",
              "      </button>\n",
              "\n",
              "<style>\n",
              "  .colab-df-quickchart {\n",
              "      --bg-color: #E8F0FE;\n",
              "      --fill-color: #1967D2;\n",
              "      --hover-bg-color: #E2EBFA;\n",
              "      --hover-fill-color: #174EA6;\n",
              "      --disabled-fill-color: #AAA;\n",
              "      --disabled-bg-color: #DDD;\n",
              "  }\n",
              "\n",
              "  [theme=dark] .colab-df-quickchart {\n",
              "      --bg-color: #3B4455;\n",
              "      --fill-color: #D2E3FC;\n",
              "      --hover-bg-color: #434B5C;\n",
              "      --hover-fill-color: #FFFFFF;\n",
              "      --disabled-bg-color: #3B4455;\n",
              "      --disabled-fill-color: #666;\n",
              "  }\n",
              "\n",
              "  .colab-df-quickchart {\n",
              "    background-color: var(--bg-color);\n",
              "    border: none;\n",
              "    border-radius: 50%;\n",
              "    cursor: pointer;\n",
              "    display: none;\n",
              "    fill: var(--fill-color);\n",
              "    height: 32px;\n",
              "    padding: 0;\n",
              "    width: 32px;\n",
              "  }\n",
              "\n",
              "  .colab-df-quickchart:hover {\n",
              "    background-color: var(--hover-bg-color);\n",
              "    box-shadow: 0 1px 2px rgba(60, 64, 67, 0.3), 0 1px 3px 1px rgba(60, 64, 67, 0.15);\n",
              "    fill: var(--button-hover-fill-color);\n",
              "  }\n",
              "\n",
              "  .colab-df-quickchart-complete:disabled,\n",
              "  .colab-df-quickchart-complete:disabled:hover {\n",
              "    background-color: var(--disabled-bg-color);\n",
              "    fill: var(--disabled-fill-color);\n",
              "    box-shadow: none;\n",
              "  }\n",
              "\n",
              "  .colab-df-spinner {\n",
              "    border: 2px solid var(--fill-color);\n",
              "    border-color: transparent;\n",
              "    border-bottom-color: var(--fill-color);\n",
              "    animation:\n",
              "      spin 1s steps(1) infinite;\n",
              "  }\n",
              "\n",
              "  @keyframes spin {\n",
              "    0% {\n",
              "      border-color: transparent;\n",
              "      border-bottom-color: var(--fill-color);\n",
              "      border-left-color: var(--fill-color);\n",
              "    }\n",
              "    20% {\n",
              "      border-color: transparent;\n",
              "      border-left-color: var(--fill-color);\n",
              "      border-top-color: var(--fill-color);\n",
              "    }\n",
              "    30% {\n",
              "      border-color: transparent;\n",
              "      border-left-color: var(--fill-color);\n",
              "      border-top-color: var(--fill-color);\n",
              "      border-right-color: var(--fill-color);\n",
              "    }\n",
              "    40% {\n",
              "      border-color: transparent;\n",
              "      border-right-color: var(--fill-color);\n",
              "      border-top-color: var(--fill-color);\n",
              "    }\n",
              "    60% {\n",
              "      border-color: transparent;\n",
              "      border-right-color: var(--fill-color);\n",
              "    }\n",
              "    80% {\n",
              "      border-color: transparent;\n",
              "      border-right-color: var(--fill-color);\n",
              "      border-bottom-color: var(--fill-color);\n",
              "    }\n",
              "    90% {\n",
              "      border-color: transparent;\n",
              "      border-bottom-color: var(--fill-color);\n",
              "    }\n",
              "  }\n",
              "</style>\n",
              "\n",
              "      <script>\n",
              "        async function quickchart(key) {\n",
              "          const quickchartButtonEl =\n",
              "            document.querySelector('#' + key + ' button');\n",
              "          quickchartButtonEl.disabled = true;  // To prevent multiple clicks.\n",
              "          quickchartButtonEl.classList.add('colab-df-spinner');\n",
              "          try {\n",
              "            const charts = await google.colab.kernel.invokeFunction(\n",
              "                'suggestCharts', [key], {});\n",
              "          } catch (error) {\n",
              "            console.error('Error during call to suggestCharts:', error);\n",
              "          }\n",
              "          quickchartButtonEl.classList.remove('colab-df-spinner');\n",
              "          quickchartButtonEl.classList.add('colab-df-quickchart-complete');\n",
              "        }\n",
              "        (() => {\n",
              "          let quickchartButtonEl =\n",
              "            document.querySelector('#df-6ad0d2bd-e940-4819-9c7e-f61dc841537b button');\n",
              "          quickchartButtonEl.style.display =\n",
              "            google.colab.kernel.accessAllowed ? 'block' : 'none';\n",
              "        })();\n",
              "      </script>\n",
              "    </div>\n",
              "\n",
              "    </div>\n",
              "  </div>\n"
            ],
            "application/vnd.google.colaboratory.intrinsic+json": {
              "type": "dataframe",
              "variable_name": "genre_ratings",
              "summary": "{\n  \"name\": \"genre_ratings\",\n  \"rows\": 118,\n  \"fields\": [\n    {\n      \"column\": \"Genres\",\n      \"properties\": {\n        \"dtype\": \"string\",\n        \"num_unique_values\": 118,\n        \"samples\": [\n          \"Action\",\n          \"News & Magazines\",\n          \"Puzzle;Education\"\n        ],\n        \"semantic_type\": \"\",\n        \"description\": \"\"\n      }\n    },\n    {\n      \"column\": \"mean\",\n      \"properties\": {\n        \"dtype\": \"number\",\n        \"std\": 0.17292929446235775,\n        \"min\": 3.8,\n        \"max\": 4.8,\n        \"num_unique_values\": 91,\n        \"samples\": [\n          4.2432286385874916,\n          4.326789417731225,\n          4.178768543787319\n        ],\n        \"semantic_type\": \"\",\n        \"description\": \"\"\n      }\n    },\n    {\n      \"column\": \"median\",\n      \"properties\": {\n        \"dtype\": \"number\",\n        \"std\": 0.16607536660216493,\n        \"min\": 3.8,\n        \"max\": 4.8,\n        \"num_unique_values\": 16,\n        \"samples\": [\n          4.8,\n          4.7,\n          4.4\n        ],\n        \"semantic_type\": \"\",\n        \"description\": \"\"\n      }\n    },\n    {\n      \"column\": \"count\",\n      \"properties\": {\n        \"dtype\": \"number\",\n        \"std\": 141,\n        \"min\": 1,\n        \"max\": 826,\n        \"num_unique_values\": 62,\n        \"samples\": [\n          420,\n          47,\n          1\n        ],\n        \"semantic_type\": \"\",\n        \"description\": \"\"\n      }\n    }\n  ]\n}"
            }
          },
          "metadata": {},
          "execution_count": 80
        }
      ],
      "execution_count": 80
    }
  ]
}